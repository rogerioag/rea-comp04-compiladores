{
  "nbformat": 4,
  "nbformat_minor": 0,
  "metadata": {
    "colab": {
      "name": "03-comp-analise-semantica-cmmsemantic.ipynb",
      "provenance": [],
      "toc_visible": true,
      "include_colab_link": true
    },
    "kernelspec": {
      "name": "python3",
      "display_name": "Python 3"
    }
  },
  "cells": [
    {
      "cell_type": "markdown",
      "metadata": {
        "id": "view-in-github",
        "colab_type": "text"
      },
      "source": [
        "<a href=\"https://colab.research.google.com/github/rogerioag/rea-comp04-compiladores/blob/main/jupyter-notebooks/03-comp-analise-semantica-cmmsemantic.ipynb\" target=\"_parent\"><img src=\"https://colab.research.google.com/assets/colab-badge.svg\" alt=\"Open In Colab\"/></a>"
      ]
    },
    {
      "cell_type": "markdown",
      "metadata": {
        "id": "Z3cFvETU_vUc"
      },
      "source": [
        "# Análise Semântica\n",
        "\n",
        "A Análise Semântica consiste em uma \"segunda passada\" do compilador no código, pois o código fonte é novamente analisado desde o início na **AST**, porém agora para realizar a anotação de atributos, inferência de tipos e verificações se as construções sintáticas fazem algum sentido para a linguagem."
      ]
    },
    {
      "cell_type": "markdown",
      "metadata": {
        "id": "KROiYQoZ_6A2"
      },
      "source": [
        "## Introdução\n",
        "\n",
        "Como entrada para a _Análise Semântica_ temos a Árvore Sintática Abstrata (AST) produzida pela fase anterior, a _Análise Sintática_ com a utilização da lista de _tokens_ identificados pela _Análises Léxica_.\n",
        "\n",
        "Nesta terceira parte do desenvolvimento do projeto do Compilador, a **AST** deve ser percorrida para a realização da análise sensível ao contexto e a geração ou finalização da _Tabela de Símbolos_. \n",
        "\n",
        "O principal motivo da **Análise Semântica** é verificar se existem erros de contexto para a linguagem **C-** apresentada na primeira e segunda parte deste tutorial. Um conjunto de Regras Semânticas devem ser verificadas."
      ]
    },
    {
      "cell_type": "markdown",
      "metadata": {
        "id": "IiSsFqEh9VY5"
      },
      "source": [
        "## Preparação do Ambiente\n",
        "\n"
      ]
    },
    {
      "cell_type": "code",
      "metadata": {
        "colab": {
          "base_uri": "https://localhost:8080/"
        },
        "id": "A9TX9STdBDfD",
        "outputId": "96182720-1cac-47a1-f19c-156ce722dd9e"
      },
      "source": [
        "!pip install ply\n",
        "!pip install anytree\n",
        "!pip install graphviz\n",
        "!pip install llvmlite\n",
        "!jupyter nbextension install https://rawgit.com/jfbercher/small_nbextensions/master/highlighter.zip  --user\n",
        "!jupyter nbextension enable highlighter/highlighter"
      ],
      "execution_count": null,
      "outputs": [
        {
          "output_type": "stream",
          "text": [
            "Requirement already satisfied: ply in /usr/local/lib/python3.7/dist-packages (3.11)\n",
            "Requirement already satisfied: anytree in /usr/local/lib/python3.7/dist-packages (2.8.0)\n",
            "Requirement already satisfied: six>=1.9.0 in /usr/local/lib/python3.7/dist-packages (from anytree) (1.15.0)\n",
            "Requirement already satisfied: graphviz in /usr/local/lib/python3.7/dist-packages (0.10.1)\n",
            "Requirement already satisfied: llvmlite in /usr/local/lib/python3.7/dist-packages (0.34.0)\n",
            "Downloading: https://rawgit.com/jfbercher/small_nbextensions/master/highlighter.zip -> /tmp/tmpys_gg4/highlighter.zip\n",
            "Extracting: /tmp/tmpys_gg4/highlighter.zip -> /root/.local/share/jupyter/nbextensions\n",
            "Enabling notebook extension highlighter/highlighter...\n",
            "      - Validating: \u001b[32mOK\u001b[0m\n"
          ],
          "name": "stdout"
        }
      ]
    },
    {
      "cell_type": "markdown",
      "metadata": {
        "id": "o5zbHzlP92i7"
      },
      "source": [
        "## Copiando Módulos do Projeto\n",
        "\n",
        "Aqui iremos copiar o projeto `rea-comp04-compiladores` do repositório do [`github`](https://github.com/rogerioag/rea-comp04-compiladores):\n",
        "\n",
        "```bash\n",
        "git clone https://github.com/rogerioag/rea-comp04-compiladores.git\n",
        "```\n",
        "Iremos copiar os módulos e os arquivos de testes para o diretório de conteúdo do _notebook_, o __content__.\n"
      ]
    },
    {
      "cell_type": "code",
      "metadata": {
        "colab": {
          "base_uri": "https://localhost:8080/"
        },
        "id": "g3CciW1-tIp1",
        "outputId": "85d96dae-81b8-42ab-8aff-101acdaf9608"
      },
      "source": [
        "! rm -rf rea-comp04-compiladores\n",
        "! git clone https://github.com/rogerioag/rea-comp04-compiladores.git\n",
        "! cp -R rea-comp04-compiladores/cmmcompiler/* .\n",
        "! cp -R rea-comp04-compiladores/cmmcompiler/tests/* .\n"
      ],
      "execution_count": null,
      "outputs": [
        {
          "output_type": "stream",
          "text": [
            "Cloning into 'rea-comp04-compiladores'...\n",
            "remote: Enumerating objects: 470, done.\u001b[K\n",
            "remote: Counting objects: 100% (470/470), done.\u001b[K\n",
            "remote: Compressing objects: 100% (370/370), done.\u001b[K\n",
            "remote: Total 470 (delta 264), reused 234 (delta 89), pack-reused 0\u001b[K\n",
            "Receiving objects: 100% (470/470), 2.87 MiB | 2.55 MiB/s, done.\n",
            "Resolving deltas: 100% (264/264), done.\n"
          ],
          "name": "stdout"
        }
      ]
    },
    {
      "cell_type": "markdown",
      "metadata": {
        "id": "sANFagsJDwqa"
      },
      "source": [
        "## Leitura Recomendada\n",
        "\n",
        "1. __Capítulo 6:__ _Análise Semântica_\n",
        "\n",
        "    LOUDEN, Kenneth C. Compiladores: princípios e práticas. São Paulo, SP: Thomson, c2004. xiv, 569 p. ISBN 8522104220.\n",
        "\n",
        "3. __Capítulo 5:__ _Tradução Dirigida pela Sintaxe_\n",
        "\n",
        "    AHO, Alfred V. et al. Compiladores: princípios, técnicas e ferramentas. 2. ed. São Paulo, SP: Pearson Addison-Wesley, 2008. x, 634 p. ISBN 9788588639249.\n"
      ]
    },
    {
      "cell_type": "markdown",
      "metadata": {
        "id": "Kiwe2Mrf4QQ9"
      },
      "source": [
        "## Regras Semânticas\n",
        "\n",
        "As **Regras Semânticas** que precisam ser verificadas para a identicação de erros semânticos ou de contexto são:\n",
        "\n",
        "### **Funções e Procedimentos.** \n",
        "\n",
        "Cada um dos _identificadores de função_, nome e quantidade de parâmetros formais deve ser verificado, os parâmetros formais devem estar vinculados a identificadores de variáveis locais.\n",
        " \n",
        "1. **Função Principal.** Todo programa escrito em **C-** deve ter uma *função principal* declarada, com a identificação `main`. Verificar a existência de uma função principal que inicializa a execução do código. Caso contrário, deve apresentar a mensagem:\n",
        "\n",
        "  **Erro:** *Função principal não declarada.*\n",
        "\n",
        "2. A função principal normalmente é do tipo `int`, mas também é aceito o retorno do tipo `void`, assim é esperado que seu retorno seja um valor inteiro ou vazio, do contrário a mensagem deve ser emitida:\n",
        "\t\n",
        "\t**Erro:** Função principal deveria retornar valor inteiro ou vazio.\n",
        "\n",
        "3. A quantidade de parâmetros reais de uma chamada de função/procedimento `func` deve ser igual a quantidade de parâmetros formais da sua definição. Caso contrário, gerar a mensagem:\n",
        "\t\n",
        "  **Erro:** Chamada à função 'func' com número de parâmetros menor que o declarado.\n",
        "\n",
        "4. Uma função deve retornar um valor de tipo compatível com o tipo de retorno declarado. Se a função `main` que é declarada com retorno `int`, não apresenta um `return(0)`, a mensagem deve ser gerada:\n",
        "\n",
        "  **Erro:** Função 'main' deveria retornar inteiro, mas retorna vazio.\n",
        "\n",
        "5. Funções precisam ser declaradas antes de serem chamadas/ativadas. Caso contrário a mensagem de erro deve ser emitida: \n",
        "   \n",
        "  **Erro:** Chamada a função 'func' que não foi declarada.\n",
        "\n",
        "6. Uma função qualquer não pode fazer uma chamada à função `main`. Devemos verificar ser existem alguma chamada para a função `main` partindo de qualquer outra função do programa.\n",
        "   \n",
        "  **Erro:** Chamada para a função principal não permitida.\n",
        "\n",
        "7. Uma função pode ser declarada e não utilizada. Se isto acontecer uma aviso deverá ser emitido:\n",
        "\t\n",
        "  **Aviso:** Função 'func' declarada, mas não utilizada.\n",
        "\n",
        "8. Se a função `main` fizer uma chamada para ela mesmo, a mensagem de aviso deve ser emitida:\n",
        "\t\n",
        "  **Aviso:** Chamada recursiva para 'main'.\n",
        "\n",
        "### Variáveis\n",
        "\n",
        "Os __identificadores de variáveis locais e globais__: nome, tipo e escopo devem ser aramazenados na Tabela de Símbolos.\n",
        "   \n",
        "9. Variáveis devem ser **declaradas**, **inicializadas** antes de serem **utilizadas** (leitura).\n",
        "   Lembrando que uma variável pode ser declarada:\n",
        "    a. no escopo do procedimento (como expressão ou como parâmetro formal);\n",
        "    b. no escopo global\n",
        "\n",
        "    *Warnings*/Avisos deverão ser mostrados quando uma variável for declarada mas nunca utilizada. \n",
        "  \n",
        "10. Se uma variável 'a' for apenas declarada e não for inicializada (escrita) ou não for utilizada (não lida), o analisador deve gerar a mensagem:\n",
        "\t\n",
        "    **Aviso:** Variável 'a' declarada e não utilizada.\n",
        "\t\n",
        "11. Se houver a tentativa de leitura ou escrita de qualquer variável não declarada a seguinte mensagem:\n",
        "\t\n",
        "    **Erro:** Variável 'a' não declarada.\n",
        "\t\n",
        "12. Se houver a tentativa de leitura de uma variável 'a' declarada, mas não inicializada:\n",
        "\t\n",
        "    **Aviso:** Variável 'a' declarada e não inicializada.\n",
        "\t\n",
        "13. *Warnings* deverão ser mostrados quando uma variável for declarada mais de uma vez. Se uma variável 'a' for declarada duas vezes no mesmo escopo, o aviso deve ser emitido:\n",
        "\t\n",
        "    **Aviso:** Variável 'a' já declarada anteriormente\n",
        "\n",
        "### **Atribuição.**\n",
        "\n",
        "Na atribuição devem ser verificados se os tipos são compatíveis. Por exemplo, uma variável `a` recebe uma expressão `b + c`. Os tipos declarados para `a` e o tipo resultado da inferência do tipo da expressão `b + c` deverão ser compatíveis. Se `b` for `int` e `c` for `int`, o tipo resultante da expressão será também `int`.\n",
        "\n",
        "14. Se assumirmos, por exemplo, que `b` é do tipo `int` e `c` do tipo `float`, o resultado pode ser `float` (se assumirmos isso para nossa linguagem). O que faria a atribuição `a := b + c` apresentar tipos diferentes e a mensagem deve ser apresentada:\n",
        "\t\n",
        "    **Aviso:** Atribuição de tipos distintos: 'a' int e 'expressão' float\n",
        "\n",
        "  O mesmo pode acontecer com a atribuição de um retorno de uma função, se os tipos forem incompatíveis o usuário deve ser avisado:\n",
        "\t\n",
        "    **Aviso:** Atribuição de tipos distintos 'a' float e 'func' retorna int\n",
        "\n",
        "15. **Coerções implícitas.** *Warnings* deverão ser mostrados quando ocorrer uma coerção implícita de tipos (int<->float). Atribuição de variáveis ou resultados de expressões de tipos distintos devem gerar a mensagem:\n",
        "\t\n",
        "    **Aviso:** Coerção implícita do valor de 'x'.\n",
        "    **Aviso:** Coerção implícita do valor retornado por 'func'.\n",
        "\n",
        "### **Arranjos.**\n",
        "\n",
        "Na linguagem `C-` é possível declarar arranjos, pela sintaxe da linguagem o índice de um arranjo é inteiro e isso deve ser verificado. Na tabela de símbolos devemos armazenar se uma variável declarada tem um tipo, se é uma variável escalar ou um vetor ou uma matriz. Podemos armazenar um campo 'dimensões', que '0': escalar, '1': arranjo unidimensional (vetor) e '2': arranjo bidimensional (matriz) e assim por diante.\n",
        "\n",
        "16. Encontrado a referência a um arranjo, seu o índice, seja um número, variável ou expressão deve ser um `inteiro`. Do contrário, a mensagem deve ser gerada: \n",
        "\t\n",
        "    __Erro:__ Índice de array 'X' não inteiro.\n",
        "\n",
        "17. Se o acesso ao elemento do arranjo estiver fora de sua definição, por exemplo um vetor `A` é declarado como tendo `10` elementos (0 a 9) e há um acesso ao `A[10]`, a mensagem de erro deve ser apresentada: \n",
        "\t\n",
        "    **Erro:** índice de array 'A' fora do intervalo (out of range)\n",
        "\n",
        "18. E outros situações descritas nos arquivos de testes.\n",
        "\n"
      ]
    },
    {
      "cell_type": "markdown",
      "metadata": {
        "id": "30GMvbDZAfyM"
      },
      "source": [
        "## Tabela de Símbolos\n",
        "\n",
        "Para a realização da análise dos erros apontados, a construção da **Tabela de Símbolos** deve ser realizada adequadamente. Uma Tabela de Símbolos pode começar a ser construída desde as análises anteriores. Por exemplo, na **Análise Léxica**, onde temos os `TOKENS` e os lexemas que casaram com a expressão regular que gerou cada um desses _tokens_. Temos também o número da `linha` e da `coluna` que o lexema foi encontrado no código fonte de entrada. \n",
        "\n",
        "Desta forma, as entradas da Tabela de Símbolos podem ir sendo preenchidas com essas informações iniciais <TOKEN, LEXEMA, LINHA, COLUNA>.\n",
        "\n",
        "Na **Análise Sintática** quando o reconhecimento entrar na função que trata a regra, por exemplo, na regra de _declaração de variáveis_, todas as variáveis irão assumir o tipo declarado para cada uma delas.\n",
        "\n",
        "``int a;``\n",
        "``int b;\n",
        "``int c[10]``\n",
        "\n",
        "Que entraria na regra:\n",
        "\n",
        "``var-declaration ::= type-specifier ID ; | type-specifier ID [ NUM ] ; ``\n",
        "\n",
        "A declaração indica que as variáveis escalares `a` e `b` e o arranjo unidimensional `c` terão por declaração o `tipo` que no exemplo é `int`.\n",
        "\n",
        "## Exemplo\n",
        "\n",
        "```.c\n",
        "int a;\n",
        "int b[10];\n",
        "int c[3][5];\n",
        "\n",
        "b = 10\n",
        "\n",
        "int func(int x, int y){\n",
        "  int res;\n",
        "  res = x + y;\n",
        "  return(res);\n",
        "}\n",
        "\n",
        "int main(){\n",
        "  a = input();\n",
        "  b = input();\n",
        "\n",
        "  b[0] = a;\n",
        "  b[1] = b;\n",
        "  c[0][1] = func(a,b);\n",
        "\n",
        "  output(c[3]);\n",
        "  return(0);\n",
        "}\n",
        "  \n",
        "```\n",
        "\n",
        "\n",
        "| Token  | Lexema  | Tipo  |\tdim  | tam_dim1 | tam_dim2  | escopo  | init  | linha  |  coluna  |\n",
        "| :----: | :-----: | :----: | :-----| :--- | :------ | :---- | :----- | :------- | ------|\n",
        "|ID|\"a\"|int|0|1|0|global|N|1|5|\n",
        "|ID|\"b\"|int|1|10|0|global|N|2|5|\n",
        "|ID|\"c\"|int|2|3|5|global|N|3|5|\n",
        "\n",
        "\n"
      ]
    },
    {
      "cell_type": "markdown",
      "metadata": {
        "id": "qFxIKFh_E2b5"
      },
      "source": [
        "## Árvore Sintática Abstrata\n",
        "\n",
        "Após a análise semântica e geração de dados referentes a esta passagem, é esperado como saída uma árvore sintática abstrata anotada (ASTO).\n",
        "\n",
        "Tomemos como exemplo uma atribuição ``a := b + c``, de acordo com a sintaxe da linguagem **TPP** temos a subárvore representada na _Figura 3.1_.\n",
        "\n",
        "<img src=\"https://raw.githubusercontent.com/rogerioag/rea-comp04-compiladores/main/jupyter-notebooks/figuras/atribuicao.png\" alt=\"Atribuição expandida\" width=\"55%\"/>\n",
        "\n",
        "__Figura 3.1:__ Atribuição expandida\n",
        "\n",
        "Após a verificação das regras semânticas, pode-se fazer uma poda dos nós internos da árvore para facilitar a geração de código. A _Figura 3.2_ apresenta a Árvore Sintática Abstrata simplificada.\n",
        "\n",
        "<img src=\"https://raw.githubusercontent.com/rogerioag/rea-comp04-compiladores/main/jupyter-notebooks/figuras/atribuicao-asa.png\" alt=\"Atribuição depois da poda\" width=\"25%\"/>\n",
        "\n",
        "__Figura 3.2:__ Atribuição depois da poda\n",
        "\n",
        "A simplificação da árvore eliminando os nós intermediários facilitará a geração de código. O Código que deve ser gerado para uma ``atribuicao`` é apresentado no Código:\n",
        "\n",
        "```llvm\n",
        "  %2 = load i32, i32* @b, align 4\n",
        "  %3 = load i32, i32* @c, align 4\n",
        "  %4 = add nsw i32 %2, %3\n",
        "  store i32 %4, i32* @a, align 4\n",
        "```\n",
        "\n"
      ]
    },
    {
      "cell_type": "markdown",
      "metadata": {
        "id": "rv0S0TiMAkxi"
      },
      "source": [
        "## Testes\n",
        "\n",
        "Alguns casos de testes estão disponíveis no conjunto de testes no projeto [`rea-comp04-compiladores`](https://github.com/rogerioag/rea-comp04-compiladores/tree/main/cmmcompiler/tests).\n",
        "\n"
      ]
    },
    {
      "cell_type": "markdown",
      "metadata": {
        "id": "3eyzSr_yKUO6"
      },
      "source": [
        "## Referências\n",
        "\n",
        "[1] LOUDEN, Kenneth C. **Compiladores:** princípios e práticas. São Paulo, SP: Thomson, c2004. xiv, 569 p. ISBN 8522104220.\n",
        "\n",
        "[2] AHO, Alfred V. **Compiladores:** princípios, técnicas e ferramentas. 2. ed. São Paulo: Pearson Addison-Wesley, 2008. x, 634 p. ISBN 9788588639249."
      ]
    }
  ]
}