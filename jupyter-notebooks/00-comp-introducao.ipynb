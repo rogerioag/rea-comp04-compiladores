{
  "nbformat": 4,
  "nbformat_minor": 0,
  "metadata": {
    "colab": {
      "name": "00-comp-introducao.ipynb",
      "provenance": [],
      "collapsed_sections": [],
      "authorship_tag": "ABX9TyOxUZwhi7JchI634zUuBQoH",
      "include_colab_link": true
    },
    "kernelspec": {
      "name": "python3",
      "display_name": "Python 3"
    },
    "language_info": {
      "name": "python"
    }
  },
  "cells": [
    {
      "cell_type": "markdown",
      "metadata": {
        "id": "view-in-github",
        "colab_type": "text"
      },
      "source": [
        "<a href=\"https://colab.research.google.com/github/rogerioag/rea-comp04-compiladores/blob/convencoes-lexicas/jupyter-notebooks/00-comp-introducao.ipynb\" target=\"_parent\"><img src=\"https://colab.research.google.com/assets/colab-badge.svg\" alt=\"Open In Colab\"/></a>"
      ]
    },
    {
      "cell_type": "markdown",
      "metadata": {
        "id": "fFwyaeKBSxUK"
      },
      "source": [
        "# Tutorial de Compiladores\n",
        "\n",
        "Prof. Rogério Aparcido Gonçalves\n",
        "\n",
        "e-mail: [rogerioag@utfpr.edu.br](mailto:rogerioag@utfpr.edu.br)\n",
        "\n",
        "Universidade Tecnológica Federal do Paraná (UTFPR)\n",
        "\n",
        "Departamento Acadêmico de Computaçãão (DACOM-CM)\n",
        "\n",
        "Curso de Bacharelado em Ciência da Computação.\n",
        "\n",
        "Esse Tutorial foi desenvolvido para ser utilizado na disciplina de Compiladores dos cursos de Computação. O Tutorial de Compiladores faz parte do REA __COMP04: Criação de Tutoriais Iterativos e Testes para Compiladores__, desenvolvido no contexto do [EDITAL 37/2020 - PROGRAD](https://sei.utfpr.edu.br/sei/publicacoes/controlador_publicacoes.php?acao=publicacao_visualizar&id_documento=2039976&id_orgao_publicacao=0) para o Desenvolvimento de Recursos Educacionais Abertos.\n",
        "\n",
        "\n",
        "# Introdução\n",
        "\n",
        "\n",
        "\n",
        "## Preparação do Ambiente\n",
        "\n",
        "*   Instalação do [PLY](https://www.dabeaz.com/ply/ply.html)\n"
      ]
    },
    {
      "cell_type": "code",
      "metadata": {
        "id": "-aFYp5hvUUf4"
      },
      "source": [
        ""
      ],
      "execution_count": null,
      "outputs": []
    }
  ]
}