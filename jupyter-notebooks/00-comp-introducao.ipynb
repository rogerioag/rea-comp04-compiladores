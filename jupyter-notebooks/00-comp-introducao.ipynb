{
  "nbformat": 4,
  "nbformat_minor": 0,
  "metadata": {
    "colab": {
      "name": "00-comp-introducao.ipynb",
      "provenance": [],
      "collapsed_sections": [],
      "toc_visible": true,
      "include_colab_link": true
    },
    "kernelspec": {
      "name": "python3",
      "display_name": "Python 3"
    },
    "language_info": {
      "name": "python"
    }
  },
  "cells": [
    {
      "cell_type": "markdown",
      "metadata": {
        "id": "view-in-github",
        "colab_type": "text"
      },
      "source": [
        "<a href=\"https://colab.research.google.com/github/rogerioag/rea-comp04-compiladores/blob/main/jupyter-notebooks/00-comp-introducao.ipynb\" target=\"_parent\"><img src=\"https://colab.research.google.com/assets/colab-badge.svg\" alt=\"Open In Colab\"/></a>"
      ]
    },
    {
      "cell_type": "markdown",
      "metadata": {
        "id": "fFwyaeKBSxUK"
      },
      "source": [
        "\n",
        "# Tutoriais Iterativos em Jupyter para o Ensino de Compiladores\n",
        "\n",
        "<img src=\"https://raw.githubusercontent.com/rogerioag/rea-comp04-compiladores/main/jupyter-notebooks/figuras/dragon_cover.png\" alt=\"Banner\" width=\"40%\"/>\n",
        "\n",
        "\n",
        "Prof. Rogério Aparecido Gonçalves\n",
        "\n",
        "e-mail: [rogerioag@utfpr.edu.br](mailto:rogerioag@utfpr.edu.br)\n",
        "\n",
        "Universidade Tecnológica Federal do Paraná (UTFPR)\n",
        "\n",
        "Departamento Acadêmico de Computação (DACOM-CM)\n",
        "\n",
        "Curso de Bacharelado em Ciência da Computação.\n",
        "\n",
        "Esse Tutorial foi desenvolvido para ser utilizado na disciplina de Compiladores dos cursos de Computação. O Tutorial de Compiladores faz parte do REA __COMP04: Criação de Tutoriais Iterativos e Testes para Compiladores__, desenvolvido no contexto do [EDITAL 37/2020 - PROGRAD](https://sei.utfpr.edu.br/sei/publicacoes/controlador_publicacoes.php?acao=publicacao_visualizar&id_documento=2039976&id_orgao_publicacao=0) para o Desenvolvimento de Recursos Educacionais Abertos.\n",
        "\n",
        "## Resumo\n",
        "\n",
        "_A disciplina de Compiladores é uma disciplina básica para a Computação. Nela os\n",
        "alunos tem contato por meio do desenvolvimento de trabalhos com o projeto e desenvolvimento de uma ferramenta de compilação, um compilador. O projeto é dividido, normalmente, em quatro fases que correspondem às fases do processo de compilação, sendo elas Análise Léxica, Análise Sintática, Análise Semântica e Geração de Código. A disciplina de compiladores, pode ser considerada uma disciplina difícil em termos de conteúdo e das implementações dos projetos. O desenvolvimento da ferramenta de compilação utilizando a linguagem de programação Python, com bibliotecas como o PLY e llvmlite, facilita a implementação dos Analisadores Léxicos (lex) e Sintáticos (yacc) e a geração de código intermediário para LLVM, e possibilita que a infraestrutura e ferramentas\n",
        "do LLVM possam ser utilizadas na geração do código final e executável. Com a popularização de notebooks iterativos em Jupyter, que permitem o aluno testar trechos de código, modificar e acrescentar novas funcionalidades e testar novamente. Na disciplina tem sido desenvolvidos tutoriais para cada uma das fases de compilação, no intuito de facilitar o desenvolvimento dos projetos, fornecendo um código inicial de referência para o desenvolvimento de cada fase._\n",
        "\n"
      ]
    },
    {
      "cell_type": "markdown",
      "metadata": {
        "id": "O3gF69-Mofsf"
      },
      "source": [
        "## Introdução\n",
        "\n",
        "O desenvolvimento de uma ferramenta de Compilação envolve pelo menos 4 fases básicas: _Análise Léxica_, _Análise Sintática_, _Análise Semântica_ e _Geração de Código_.\n",
        "\n",
        "Para cada uma das fases temos alguma teoria vista em outras disciplinas do Curso de Ciência da Computação. Na _Análise Léxica_ para a identificação das _marcas_ ou _tokens_ utilizamos como base a teoria sobre _Autômatos_ e _Expressões Regulares (ER)_ vistas em _Linguagens Formais e Autômatos_ e no caso das _ERs_ utilizadas em diversas linguagens de programação e ferramentas do sistema.\n",
        "\n",
        "A _Análise Sintática_ estrutura o código fonte de entrada como uma árvore sintática criada pela derivação das regras sintáticas da linguagem com a sequência de _tokens_ identificadas pelo Analisador Léxico. O resultado principal dessa fase é uma _Árvore Sintática_.\n",
        "\n",
        "Já a _Análise Semântica_ de posse da Árvore gerada na fase anterior fará por meio de algoritmos de navegação ou caminhamento em árvores a verificação das regras semânticas da linguagem de trabalho. Verificadas todo o conjunto de regras semânticas definidos para a linguagem, temos que o programa estruturado na fase anterior está sintaticamente correto e também semanticamente correto, possui um significado válido. O resultado gerado por essa fase é uma árvore simplificada para a geração de Código.\n",
        "\n",
        "A _Geração de Código_ é a fase final em alguns ciclos de desenvolvimento dependendo do tipo de código que será gerado, final (executável), assembly nativo ou código intermediário. No nosso tutorial a ideia é que a geração de código produza um código intermediário, uma representação intermediária, no nosso caso o código intermediário do LLVM, o LLVM-IR. A _Figura 1_ apresenta uma visão geral do processo de Compilação.\n",
        "\n",
        "<!--![Visão Geral do Processo de Compilação](https://raw.githubusercontent.com/rogerioag/rea-comp04-compiladores/main/jupyter-notebooks/figuras/cm-to-exe.png){ width=85% }-->\n",
        "\n",
        "<img src=\"https://raw.githubusercontent.com/rogerioag/rea-comp04-compiladores/main/jupyter-notebooks/figuras/cm-to-exe.png\" alt=\"Visão Geral do Processo de Compilação\" width=\"95%\"/>\n",
        "\n",
        "__Figura 1:__ Visão Geral do Processo de Compilação\n"
      ]
    },
    {
      "cell_type": "markdown",
      "metadata": {
        "id": "qVkH2wOLXLJ0"
      },
      "source": [
        "## A Linguagem `C-`\n",
        "\n",
        "A linguagem de Programação que iremos implementar como exemplo neste tutorial é a linguagem `C-` que é uma simplificação da linguagem `C-`, a escolha dessa linguagem foi pelo fato de grande parte das disciplinas introdutórias à programação, como Algoritmos dos cursos de Computação serem ministradas utilizando `C-`, assim teríamos a vantagem de ser uma linguagem conhecida pelos alunos. A versão simplificada `C-` é apresentada no \\emph{Apêndice A} do livro texto utilizado na disciplina de Compiladores [1].\n",
        "\n",
        "A sintaxe da linguagem \\texttt{C-} tem as Regras Sintáticas apresentadas no _Código 1_.\n",
        "\n",
        "```ebnf\n",
        "program ::= declaration-list\n",
        "declaration-list ::= declaration-list declaration | declaration\n",
        "declaration ::= var-declaration | fun-declaration\n",
        "var-declaration ::= type-specifier ID ; | type-specifier ID [ NUM ] ;\n",
        "type-specifier ::= int | float | void\n",
        "fun-declaration ::= type-specifier ID ( params ) compound-stmt\n",
        "params ::= param-list | void\n",
        "param-list ::= param-list , param | param\n",
        "param ::= type-specifier ID | type-specifier ID [ ]\n",
        "compound-stmt ::= { local-declarations statement-list }\n",
        "local-declarations ::= local-declarations var-declaration | empty\n",
        "statement-list ::= statement-list statement | empty\n",
        "statement ::= expression-stmt | compound-stmt | selection-stmt | iteration-stmt | return-stmt\n",
        "expression-stmt ::= expression ; | ;\n",
        "selection-stmt ::= if ( expression ) statement | if ( expression ) statement else statement\n",
        "iteration-stmt ::= while ( expression ) statement\n",
        "return-stmt ::= return ; | return expression ;\n",
        "expression ::= var = expression | simple-expression\n",
        "var ::= ID | ID [ expression ]\n",
        "simple-expression ::= additive-expression relop additive-expression | additive-expression\n",
        "relop ::= <= | < | > | >= | == | !=\n",
        "additive-expression ::= additive-expression addop term | term\n",
        "addop ::= + | -\n",
        "term ::= term mulop factor | factor\n",
        "mulop ::= * | /\n",
        "factor ::= ( expression ) | var | call | NUM\n",
        "call ::= ID ( args )\n",
        "args ::= arg-list | empty\n",
        "arg-list ::= arg-list , expression | expression\n",
        "```\n",
        "__Código 1:__ Regras Sintáticas `C-`\n",
        "\n",
        "## Diagramas Sintáticos\n",
        "\n",
        "Diagramas Sintáticos são uma visualização gráfica das Regras Sintáticas. A _Figura 2_ apresenta a representação gráfica da regra para o _comando de seleção_ (IF). \n",
        "\n",
        "A regra para comando de seleção:\n",
        "\n",
        "```selection-stmt ::= if '(' expression ')' statement ( else statement )?```\n",
        "\n",
        "__selection-stmt:__\n",
        "\n",
        "<img src=\"https://raw.githubusercontent.com/rogerioag/rea-comp04-compiladores/main/jupyter-notebooks/figuras/selection-stmt.png\" alt=\"Diagrama da Regra Sintática para Comando de Seleção\" width=\"75%\"/>\n",
        "\n",
        "__Figura 2:__ Diagrama da Regra Sintática para Comando de Seleção\n",
        "\n",
        "\n",
        "Todos os outros diagramas que representam as regras apresentadas no _Código 1_ estão disponíveis no repositório do _github_ do projeto [`rea-comp04-compiladores`](https://github.com/rogerioag/rea-comp04-compiladores/blob/main/cmmcompiler/ebnf/diagrams)."
      ]
    },
    {
      "cell_type": "markdown",
      "metadata": {
        "id": "NsOC5oUKDg1e"
      },
      "source": [
        "## Preparação do Ambiente\n",
        "\n",
        "Como estamos utilizando ferramentas para gerar os _Analisadores Léxico e Sintático_ e na fase final gerarmos o código LLVM-IR na linguagem de programação _Python_, precisamos preparar o ambiente como algumas bibliotecas que serão utilizadas, dentre elas o [PLY](https://www.dabeaz.com/ply/ply.html) -- que gera a implementação da parte léxica e sintática, [AnyTree](https://anytree.readthedocs.io/en/latest) -- para a representação da árvore sintática, o [llvmlite](https://pypi.org/project/llvmlite/) -- para a geração do código LLVM-IR.\n",
        "\n",
        "\n",
        "__Iremos instalar cada uma das ferramentas:__ [PLY](https://www.dabeaz.com/ply/ply.html), [AnyTree](https://anytree.readthedocs.io/en/latest), [graphviz](https://pypi.org/project/graphviz/) e [llvmlite](https://pypi.org/project/llvmlite/)\n"
      ]
    },
    {
      "cell_type": "code",
      "metadata": {
        "colab": {
          "base_uri": "https://localhost:8080/"
        },
        "id": "E0h4dKQPKZ-k",
        "outputId": "7642c694-1722-4c0f-bbad-a8b7e5752c93"
      },
      "source": [
        "!pip install ply"
      ],
      "execution_count": null,
      "outputs": [
        {
          "output_type": "stream",
          "text": [
            "Collecting ply\n",
            "\u001b[?25l  Downloading https://files.pythonhosted.org/packages/a3/58/35da89ee790598a0700ea49b2a66594140f44dec458c07e8e3d4979137fc/ply-3.11-py2.py3-none-any.whl (49kB)\n",
            "\r\u001b[K     |██████▋                         | 10kB 15.6MB/s eta 0:00:01\r\u001b[K     |█████████████▏                  | 20kB 18.1MB/s eta 0:00:01\r\u001b[K     |███████████████████▉            | 30kB 14.8MB/s eta 0:00:01\r\u001b[K     |██████████████████████████▍     | 40kB 13.5MB/s eta 0:00:01\r\u001b[K     |████████████████████████████████| 51kB 3.9MB/s \n",
            "\u001b[?25hInstalling collected packages: ply\n",
            "Successfully installed ply-3.11\n"
          ],
          "name": "stdout"
        }
      ]
    },
    {
      "cell_type": "code",
      "metadata": {
        "colab": {
          "base_uri": "https://localhost:8080/"
        },
        "id": "gUZZ5OVZKnNg",
        "outputId": "726f2d5b-1acd-487b-d201-e6cacadf4287"
      },
      "source": [
        "!pip install anytree"
      ],
      "execution_count": null,
      "outputs": [
        {
          "output_type": "stream",
          "text": [
            "Collecting anytree\n",
            "\u001b[?25l  Downloading https://files.pythonhosted.org/packages/a8/65/be23d8c3ecd68d40541d49812cd94ed0f3ee37eb88669ca15df0e43daed1/anytree-2.8.0-py2.py3-none-any.whl (41kB)\n",
            "\r\u001b[K     |███████▉                        | 10kB 15.0MB/s eta 0:00:01\r\u001b[K     |███████████████▊                | 20kB 21.1MB/s eta 0:00:01\r\u001b[K     |███████████████████████▋        | 30kB 22.9MB/s eta 0:00:01\r\u001b[K     |███████████████████████████████▍| 40kB 18.2MB/s eta 0:00:01\r\u001b[K     |████████████████████████████████| 51kB 5.4MB/s \n",
            "\u001b[?25hRequirement already satisfied: six>=1.9.0 in /usr/local/lib/python3.7/dist-packages (from anytree) (1.15.0)\n",
            "Installing collected packages: anytree\n",
            "Successfully installed anytree-2.8.0\n"
          ],
          "name": "stdout"
        }
      ]
    },
    {
      "cell_type": "code",
      "metadata": {
        "colab": {
          "base_uri": "https://localhost:8080/"
        },
        "id": "FuQI4_KPKzBy",
        "outputId": "17cbf71b-0c4e-4973-a9ae-c9a51ab320c4"
      },
      "source": [
        "!pip install graphviz"
      ],
      "execution_count": null,
      "outputs": [
        {
          "output_type": "stream",
          "text": [
            "Requirement already satisfied: graphviz in /usr/local/lib/python3.7/dist-packages (0.10.1)\n"
          ],
          "name": "stdout"
        }
      ]
    },
    {
      "cell_type": "code",
      "metadata": {
        "colab": {
          "base_uri": "https://localhost:8080/"
        },
        "id": "255VdRiLKrdG",
        "outputId": "5d4136a7-587b-4655-b024-d5e90ab36073"
      },
      "source": [
        "!pip install llvmlite"
      ],
      "execution_count": null,
      "outputs": [
        {
          "output_type": "stream",
          "text": [
            "Requirement already satisfied: llvmlite in /usr/local/lib/python3.7/dist-packages (0.34.0)\n"
          ],
          "name": "stdout"
        }
      ]
    },
    {
      "cell_type": "markdown",
      "metadata": {
        "id": "EHKowkgSVUi5"
      },
      "source": [
        "__Instalação de alguns _plugins_ para o Jupyter:__"
      ]
    },
    {
      "cell_type": "code",
      "metadata": {
        "colab": {
          "base_uri": "https://localhost:8080/"
        },
        "id": "DisvxsM3U9zq",
        "outputId": "b4302df8-fe7a-4740-e50a-9338be42481a"
      },
      "source": [
        "!jupyter nbextension install https://rawgit.com/jfbercher/small_nbextensions/master/highlighter.zip  --user\n",
        "!jupyter nbextension enable highlighter/highlighter"
      ],
      "execution_count": null,
      "outputs": [
        {
          "output_type": "stream",
          "text": [
            "Downloading: https://rawgit.com/jfbercher/small_nbextensions/master/highlighter.zip -> /tmp/tmpRHcqzB/highlighter.zip\n",
            "Extracting: /tmp/tmpRHcqzB/highlighter.zip -> /root/.local/share/jupyter/nbextensions\n",
            "Enabling notebook extension highlighter/highlighter...\n",
            "      - Validating: \u001b[32mOK\u001b[0m\n"
          ],
          "name": "stdout"
        }
      ]
    },
    {
      "cell_type": "code",
      "metadata": {
        "colab": {
          "base_uri": "https://localhost:8080/",
          "height": 17
        },
        "id": "a-s-dVnxdbZW",
        "outputId": "b62643b8-22fb-46cf-d278-dc14c7a9af80"
      },
      "source": [
        "%%javascript\n",
        "require(\"base/js/utils\").load_extensions(\"highlighter/highlighter\")"
      ],
      "execution_count": null,
      "outputs": [
        {
          "output_type": "display_data",
          "data": {
            "application/javascript": [
              "require(\"base/js/utils\").load_extensions(\"highlighter/highlighter\")"
            ],
            "text/plain": [
              "<IPython.core.display.Javascript object>"
            ]
          },
          "metadata": {
            "tags": []
          }
        }
      ]
    },
    {
      "cell_type": "markdown",
      "metadata": {
        "id": "GYodd1Hr-afu"
      },
      "source": [
        "## Estrutura do Projeto do Código de Referência\n",
        "\n",
        "Os arquivos utilizados nos _notebooks_ dos tutoriais estão disponíveis no `github`: [rea-comp04-compiladores](https://github.com/rogerioag/rea-comp04-compiladores/tree/main/cmmcompiler)\n",
        "\n",
        "O código apresenta a seguinte estrutura:\n",
        "\n",
        "<!--<img src=\"https://raw.githubusercontent.com/rogerioag/rea-comp04-compiladores/main/jupyter-notebooks/figuras/folder-black-code.svg\"/>-->\n",
        "\n",
        "| Diretório/Arquivo  | Conteúdo                                    |\n",
        "| :------------ | :------------------------------------------ |\n",
        "|  [cmmcompiler](https://github.com/rogerioag/rea-comp04-compiladores/tree/main/cmmcompiler) | Diretório raiz do Projeto do Compilador |\n",
        "| [main.py](https://github.com/rogerioag/rea-comp04-compiladores/tree/main/cmmcompiler/main.py) | Código principal |\n",
        "| [lexer](https://github.com/rogerioag/rea-comp04-compiladores/tree/main/cmmcompiler/lexer) | Módulo da Análise Léxica |\n",
        "| [parser](https://github.com/rogerioag/rea-comp04-compiladores/tree/main/cmmcompiler/parser) | Módulo da Análise Sintática |\n",
        "| [semantic](https://github.com/rogerioag/rea-comp04-compiladores/tree/main/cmmcompiler/semantic) | Módulo da Análise Semântica |\n",
        "| [gencode](https://github.com/rogerioag/rea-comp04-compiladores/tree/main/cmmcompiler/gencode) | Módulo da Geração de Código |\n",
        "| [tests](https://github.com/rogerioag/rea-comp04-compiladores/tree/main/cmmcompiler/tests) | Arquivos de Testes |\n",
        "| [tree](https://github.com/rogerioag/rea-comp04-compiladores/tree/main/cmmcompiler/tree) | Definição da Estrutura da Árvore |\n",
        "| [utils](https://github.com/rogerioag/rea-comp04-compiladores/tree/main/cmmcompiler/utils) | Definição de Funções auxiliares |\n",
        "| [ebnf](https://github.com/rogerioag/rea-comp04-compiladores/tree/main/cmmcompiler/ebnf) | Documentos da especificação da linguagem `C-` |\n",
        "\n",
        "\n",
        "\n",
        "\n"
      ]
    },
    {
      "cell_type": "markdown",
      "metadata": {
        "id": "o64Zh-UvB7ju"
      },
      "source": [
        "## Fases do Desenvolvimento\n",
        "\n",
        "Estruturamos o desenvolvimento em 4 fases, para cada uma delas preparamos um _notebook Jupyter_ com instruções e com algum código de _start_ para o desenvolvimento:\n",
        "\n",
        "1. [Análise Léxica](https://colab.research.google.com/github/rogerioag/rea-comp04-compiladores/blob/main/jupyter-notebooks/01-comp-analise-lexica-cmmlex.ipynb)\n",
        "\n",
        "2. [Análise Sintática](https://colab.research.google.com/github/rogerioag/rea-comp04-compiladores/blob/main/jupyter-notebooks/02-comp-analise-sintatica-cmmparser.ipynb)\n",
        "\n",
        "3. [Análise Semântica](https://colab.research.google.com/github/rogerioag/rea-comp04-compiladores/blob/main/jupyter-notebooks/03-comp-analise-semantica-cmmsemantic.ipynb)\n",
        "\n",
        "4. [Geração de Código](https://colab.research.google.com/github/rogerioag/rea-comp04-compiladores/blob/main/jupyter-notebooks/04-comp-geracao-de-codigo-cmmcodegen.ipynb)\n",
        "\n"
      ]
    },
    {
      "cell_type": "markdown",
      "metadata": {
        "id": "3eyzSr_yKUO6"
      },
      "source": [
        "## Referências\n",
        "\n",
        "[1] LOUDEN, Kenneth C. **Compiladores:** princípios e práticas. São Paulo, SP: Thomson, c2004. xiv, 569 p. ISBN 8522104220.\n",
        "\n",
        "[2] AHO, Alfred V. **Compiladores:** princípios, técnicas e ferramentas. 2. ed. São Paulo: Pearson Addison-Wesley, 2008. x, 634 p. ISBN 9788588639249."
      ]
    }
  ]
}
