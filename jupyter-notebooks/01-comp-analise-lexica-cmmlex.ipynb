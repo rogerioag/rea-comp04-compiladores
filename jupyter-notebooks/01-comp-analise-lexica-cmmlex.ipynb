{
  "nbformat": 4,
  "nbformat_minor": 0,
  "metadata": {
    "colab": {
      "name": "01-comp-analise-lexica-cmmlex.ipynb",
      "provenance": [],
      "collapsed_sections": [],
      "include_colab_link": true
    },
    "kernelspec": {
      "name": "python3",
      "display_name": "Python 3"
    },
    "language_info": {
      "name": "python"
    }
  },
  "cells": [
    {
      "cell_type": "markdown",
      "metadata": {
        "id": "view-in-github",
        "colab_type": "text"
      },
      "source": [
        "<a href=\"https://colab.research.google.com/github/rogerioag/rea-comp04-compiladores/blob/main/jupyter-notebooks/01-comp-analise-lexica-cmmlex.ipynb\" target=\"_parent\"><img src=\"https://colab.research.google.com/assets/colab-badge.svg\" alt=\"Open In Colab\"/></a>"
      ]
    },
    {
      "cell_type": "markdown",
      "metadata": {
        "id": "3Ai_mHoMeYJV"
      },
      "source": [
        "# Análise Léxica"
      ]
    },
    {
      "cell_type": "code",
      "metadata": {
        "colab": {
          "base_uri": "https://localhost:8080/"
        },
        "id": "A9TX9STdBDfD",
        "outputId": "697deb2e-c5f4-414a-93f0-ef60afdb4b45"
      },
      "source": [
        "!pip install ply\n",
        "!pip install anytree\n",
        "!pip install graphviz\n",
        "!pip install llvmlite\n",
        "!jupyter nbextension install https://rawgit.com/jfbercher/small_nbextensions/master/highlighter.zip  --user\n",
        "!jupyter nbextension enable highlighter/highlighter"
      ],
      "execution_count": null,
      "outputs": [
        {
          "output_type": "stream",
          "text": [
            "Collecting ply\n",
            "\u001b[?25l  Downloading https://files.pythonhosted.org/packages/a3/58/35da89ee790598a0700ea49b2a66594140f44dec458c07e8e3d4979137fc/ply-3.11-py2.py3-none-any.whl (49kB)\n",
            "\u001b[K     |████████████████████████████████| 51kB 3.8MB/s \n",
            "\u001b[?25hInstalling collected packages: ply\n",
            "Successfully installed ply-3.11\n",
            "Collecting anytree\n",
            "\u001b[?25l  Downloading https://files.pythonhosted.org/packages/a8/65/be23d8c3ecd68d40541d49812cd94ed0f3ee37eb88669ca15df0e43daed1/anytree-2.8.0-py2.py3-none-any.whl (41kB)\n",
            "\u001b[K     |████████████████████████████████| 51kB 3.4MB/s \n",
            "\u001b[?25hRequirement already satisfied: six>=1.9.0 in /usr/local/lib/python3.7/dist-packages (from anytree) (1.15.0)\n",
            "Installing collected packages: anytree\n",
            "Successfully installed anytree-2.8.0\n",
            "Requirement already satisfied: graphviz in /usr/local/lib/python3.7/dist-packages (0.10.1)\n",
            "Requirement already satisfied: llvmlite in /usr/local/lib/python3.7/dist-packages (0.34.0)\n",
            "Downloading: https://rawgit.com/jfbercher/small_nbextensions/master/highlighter.zip -> /tmp/tmpegDtUB/highlighter.zip\n",
            "Extracting: /tmp/tmpegDtUB/highlighter.zip -> /root/.local/share/jupyter/nbextensions\n",
            "Enabling notebook extension highlighter/highlighter...\n",
            "      - Validating: \u001b[32mOK\u001b[0m\n"
          ],
          "name": "stdout"
        }
      ]
    },
    {
      "cell_type": "code",
      "metadata": {
        "id": "dNT8lJABWX9l",
        "colab": {
          "base_uri": "https://localhost:8080/",
          "height": 17
        },
        "outputId": "4846ff84-f0d2-44a4-ecb6-afb161883ea0"
      },
      "source": [
        "%%javascript\n",
        "require(\"base/js/utils\").load_extensions(\"highlighter/highlighter\")"
      ],
      "execution_count": null,
      "outputs": [
        {
          "output_type": "display_data",
          "data": {
            "application/javascript": [
              "require(\"base/js/utils\").load_extensions(\"highlighter/highlighter\")"
            ],
            "text/plain": [
              "<IPython.core.display.Javascript object>"
            ]
          },
          "metadata": {
            "tags": []
          }
        }
      ]
    },
    {
      "cell_type": "code",
      "metadata": {
        "id": "EGxUtELATG9J"
      },
      "source": [
        "from sys import argv, exit\n",
        "\n",
        "import logging\n",
        "logging.basicConfig(\n",
        "     level = logging.DEBUG,\n",
        "     filename = \"log.txt\",\n",
        "     filemode = \"w\",\n",
        "     format = \"%(filename)10s:%(lineno)4d:%(message)s\"\n",
        ")\n",
        "log = logging.getLogger()\n",
        "\n",
        "import ply.lex as lex\n",
        "from ply.lex import TOKEN"
      ],
      "execution_count": null,
      "outputs": []
    },
    {
      "cell_type": "code",
      "metadata": {
        "id": "nAOrk6zIm3Gr"
      },
      "source": [
        "__all__ = ['tokens', 'TOKENS_SYMBOLS']\n",
        "\n",
        "reserved = {\n",
        "    'else': 'ELSE',\n",
        "    'if': 'IF',\n",
        "    'int': 'INT',\n",
        "    'return': 'RETURN',\n",
        "    'void': 'VOID',\n",
        "    'while': 'WHILE',\n",
        "}\n",
        "\n",
        "math_symbols = [\n",
        "    'PLUS',  # +\n",
        "    'MINUS',  # -\n",
        "    'TIMES',  # *\n",
        "    'DIVIDE'  # /\n",
        "]\n",
        "\n",
        "comparison_symbols = [\n",
        "    'LESS_EQUAL',  # <=\n",
        "    'LESS',  # <\n",
        "    'GREATER_EQUAL',  # >=\n",
        "    'GREATER',  # >\n",
        "    'EQUALS',  # ==\n",
        "    'DIFFERENT',  # !=\n",
        "]\n",
        "\n",
        "control_symbols = [\n",
        "    'LPAREN',  # (\n",
        "    'RPAREN',  # )\n",
        "    'LBRACKETS',  # [\n",
        "    'RBRACKETS',  # ]\n",
        "    'LBRACES',  # {\n",
        "    'RBRACES',  # }\n",
        "    'ATTRIBUTION',  # =\n",
        "    'SEMICOLON',  # ;\n",
        "    'COMMA',  # ,\n",
        "]\n",
        "\n",
        "markers = [\n",
        "    'ID',\n",
        "    'NUMBER',\n",
        "]\n",
        "\n",
        "TOKENS_SYMBOLS = {\n",
        "    'PLUS': '+',\n",
        "    'MINUS': '-',\n",
        "    'TIMES': '*',\n",
        "    'DIVIDE': '/',\n",
        "    'LESS_EQUAL': '<=',\n",
        "    'LESS': '<',\n",
        "    'GREATER_EQUAL': '>=',\n",
        "    'GREATER': '>',\n",
        "    'EQUALS': '==',\n",
        "    'DIFFERENT': '!=',\n",
        "    'LPAREN': '(',\n",
        "    'RPAREN': ')',\n",
        "    'LBRACKETS': '[',\n",
        "    'RBRACKETS': ']',\n",
        "    'LBRACES': '{',\n",
        "    'RBRACES': '}',\n",
        "    'ATTRIBUTION': '=',\n",
        "    'SEMICOLON': ';',\n",
        "    'COMMA': ',',\n",
        "    'ELSE': 'else',\n",
        "    'IF': 'if',\n",
        "    'INT': 'int',\n",
        "    'RETURN': 'return',\n",
        "    'VOID': 'void',\n",
        "    'WHILE': 'while',\n",
        "}\n",
        "\n",
        "tokens = markers + math_symbols + comparison_symbols + \\\n",
        "    control_symbols + list(reserved.values())\n"
      ],
      "execution_count": null,
      "outputs": []
    },
    {
      "cell_type": "code",
      "metadata": {
        "id": "wo_nkB54m_-P"
      },
      "source": [
        "id_regex = r'[a-zA-Z][a-zA-Z]*'\n",
        "comment_regex = r'\\/\\*[^\\r]*\\*\\/'\n",
        "\n",
        "#! MATH\n",
        "t_PLUS = r'\\+'\n",
        "t_MINUS = r'-'\n",
        "t_TIMES = r'\\*'\n",
        "t_DIVIDE = r'/'\n",
        "\n",
        "#! COMPARISON\n",
        "t_LESS_EQUAL = r'<='\n",
        "t_LESS = r'<'\n",
        "t_GREATER_EQUAL = r'>='\n",
        "t_GREATER = r'>'\n",
        "t_EQUALS = r'=='\n",
        "t_DIFFERENT = r'!='\n",
        "\n",
        "#! CONTROL\n",
        "t_LPAREN = r'\\('\n",
        "t_RPAREN = r'\\)'\n",
        "t_LBRACKETS = r'\\['\n",
        "t_RBRACKETS = r'\\]'\n",
        "t_LBRACES = r'{'\n",
        "t_RBRACES = r'}'\n",
        "t_ATTRIBUTION = r'='\n",
        "t_SEMICOLON = r';'\n",
        "t_COMMA = r','\n",
        "\n",
        "t_NUMBER = r'[0-9][0-9]*'\n"
      ],
      "execution_count": null,
      "outputs": []
    },
    {
      "cell_type": "code",
      "metadata": {
        "id": "PIvcrpB_nJn6"
      },
      "source": [
        "t_ignore = ' \\t'\n",
        "\n",
        "@TOKEN(id_regex)\n",
        "def t_ID(t):\n",
        "    t.type = reserved.get(t.value, 'ID')\n",
        "    return t\n",
        "\n",
        "@TOKEN(comment_regex)\n",
        "def t_ignore_COMMENT(r):\n",
        "    pass\n",
        "\n",
        "def t_newline(t):\n",
        "    r'\\n+'\n",
        "    t.lexer.lineno += len(t.value)\n",
        "\n",
        "def t_error(t):\n",
        "    print(\"Símbolo não definido pela linguagem '%s'\" % t.value[0])\n",
        "    t.lexer.skip(1)"
      ],
      "execution_count": null,
      "outputs": []
    },
    {
      "cell_type": "code",
      "metadata": {
        "id": "N4n4IwfrnZWK"
      },
      "source": [
        "def get_tokens(input):\n",
        "    lexer = lex.lex()\n",
        "    lexer.input(input)\n",
        "\n",
        "    tokens = []\n",
        "    token = lexer.token()\n",
        "    while token:\n",
        "        tokens.append(token)\n",
        "        token = lexer.token()\n",
        "        pass\n",
        "\n",
        "    return tokens\n",
        "    pass\n",
        "\n",
        "\n",
        "# lexer = lex.lex()"
      ],
      "execution_count": null,
      "outputs": []
    },
    {
      "cell_type": "code",
      "metadata": {
        "id": "ln8ZD1zsn_Ve"
      },
      "source": [
        "def main():\n",
        "    argv[1] = 'prog-001.cm'\n",
        "    aux = argv[1].split('.')\n",
        "    if aux[-1] != 'cm':\n",
        "      raise IOError(\"Not a .cm file!\")\n",
        "    data = open(argv[1])\n",
        "\n",
        "    source_file = data.read()\n",
        "    lexer.input(source_file)\n",
        "\n",
        "    # Tokenize\n",
        "    while True:\n",
        "      tok = lexer.token()\n",
        "      if not tok: \n",
        "        break      # No more input\n",
        "      # print(tok)\n",
        "      print(tok.type)\n",
        "      #print(tok.value)"
      ],
      "execution_count": null,
      "outputs": []
    },
    {
      "cell_type": "code",
      "metadata": {
        "colab": {
          "base_uri": "https://localhost:8080/"
        },
        "id": "RrbK5GmloEnt",
        "outputId": "5f57dd32-4ab2-4397-d187-41fe144ae1be"
      },
      "source": [
        "# Build the lexer.\n",
        "__file__ = \"01-comp-analise-lexica-cmmlex.ipynb\"\n",
        "lexer = lex.lex(optimize=True,debug=True,debuglog=log)\n",
        "\n",
        "if __name__ == \"__main__\":\n",
        "    main()"
      ],
      "execution_count": null,
      "outputs": [
        {
          "output_type": "stream",
          "text": [
            "INT\n",
            "ID\n",
            "LPAREN\n",
            "VOID\n",
            "RPAREN\n",
            "LBRACES\n",
            "RETURN\n",
            "LPAREN\n",
            "NUMBER\n",
            "RPAREN\n",
            "SEMICOLON\n",
            "RBRACES\n"
          ],
          "name": "stdout"
        }
      ]
    },
    {
      "cell_type": "code",
      "metadata": {
        "colab": {
          "base_uri": "https://localhost:8080/"
        },
        "id": "efpzLNvTpZCP",
        "outputId": "0e270a92-3b1c-4b1c-8d99-e1cbf3d886fd"
      },
      "source": [
        "%%writefile prog-001.cm\n",
        "\n",
        "int main(){\n",
        "    return 0;\n",
        "}"
      ],
      "execution_count": null,
      "outputs": [
        {
          "output_type": "stream",
          "text": [
            "Writing prog-001.cm\n"
          ],
          "name": "stdout"
        }
      ]
    },
    {
      "cell_type": "code",
      "metadata": {
        "colab": {
          "base_uri": "https://localhost:8080/"
        },
        "id": "bgpJmj18oO18",
        "outputId": "8129bb67-5a0f-4698-e51e-840eb80c343f"
      },
      "source": [
        "%%writefile prog-002.cm\n",
        "\n",
        "int gcd (int u, int v){\n",
        "  if (v == 0) return u;\n",
        "  else return gcd(v,u-u/v*v);\n",
        "  /8 u-u/v*v == u mod v */\n",
        "}\n",
        "\n",
        "void main(void){\n",
        "  int x; int y;\n",
        "  x = input();\n",
        "  y = input();\n",
        "  output(gcd(x,y));\n",
        "}"
      ],
      "execution_count": null,
      "outputs": [
        {
          "output_type": "stream",
          "text": [
            "Writing prog-002.cm\n"
          ],
          "name": "stdout"
        }
      ]
    },
    {
      "cell_type": "code",
      "metadata": {
        "colab": {
          "base_uri": "https://localhost:8080/"
        },
        "id": "3YxtiNTXrepQ",
        "outputId": "41fbe416-f00b-4502-c506-ec4d26566fe7"
      },
      "source": [
        "! mkdir lexer\n",
        "! wget -O lexer/__init__.py https://raw.githubusercontent.com/rogerioag/rea-comp04-compiladores/main/cmmcompiler/lexer/__init__.py\n",
        "! wget -O lexer/methods.py https://raw.githubusercontent.com/rogerioag/rea-comp04-compiladores/main/cmmcompiler/lexer/methods.py\n",
        "! wget -O lexer/regexs.py https://raw.githubusercontent.com/rogerioag/rea-comp04-compiladores/main/cmmcompiler/lexer/regexs.py\n",
        "! wget -O lexer/tokens.py https://raw.githubusercontent.com/rogerioag/rea-comp04-compiladores/main/cmmcompiler/lexer/tokens.py\n",
        "! wget -O main.py https://raw.githubusercontent.com/rogerioag/rea-comp04-compiladores/main/cmmcompiler/main.py\n",
        "! mkdir utils\n",
        "! wget -O utils/__init__.py https://raw.githubusercontent.com/rogerioag/rea-comp04-compiladores/main/cmmcompiler/utils/__init__.py\n",
        "! wget -O utils/args.py https://raw.githubusercontent.com/rogerioag/rea-comp04-compiladores/main/cmmcompiler/utils/args.py\n",
        "! wget -O utils/graph.py https://raw.githubusercontent.com/rogerioag/rea-comp04-compiladores/main/cmmcompiler/utils/graph.py\n"
      ],
      "execution_count": null,
      "outputs": [
        {
          "output_type": "stream",
          "text": [
            "--2021-07-12 18:14:16--  https://raw.githubusercontent.com/rogerioag/rea-comp04-compiladores/main/cmmcompiler/lexer/__init__.py\n",
            "Resolving raw.githubusercontent.com (raw.githubusercontent.com)... 185.199.108.133, 185.199.109.133, 185.199.110.133, ...\n",
            "Connecting to raw.githubusercontent.com (raw.githubusercontent.com)|185.199.108.133|:443... connected.\n",
            "HTTP request sent, awaiting response... 200 OK\n",
            "Length: 662 [text/plain]\n",
            "Saving to: ‘lexer/__init__.py’\n",
            "\n",
            "\rlexer/__init__.py     0%[                    ]       0  --.-KB/s               \rlexer/__init__.py   100%[===================>]     662  --.-KB/s    in 0s      \n",
            "\n",
            "2021-07-12 18:14:16 (20.8 MB/s) - ‘lexer/__init__.py’ saved [662/662]\n",
            "\n",
            "--2021-07-12 18:14:17--  https://raw.githubusercontent.com/rogerioag/rea-comp04-compiladores/main/cmmcompiler/lexer/methods.py\n",
            "Resolving raw.githubusercontent.com (raw.githubusercontent.com)... 185.199.108.133, 185.199.109.133, 185.199.110.133, ...\n",
            "Connecting to raw.githubusercontent.com (raw.githubusercontent.com)|185.199.108.133|:443... connected.\n",
            "HTTP request sent, awaiting response... 200 OK\n",
            "Length: 431 [text/plain]\n",
            "Saving to: ‘lexer/methods.py’\n",
            "\n",
            "lexer/methods.py    100%[===================>]     431  --.-KB/s    in 0s      \n",
            "\n",
            "2021-07-12 18:14:17 (27.7 MB/s) - ‘lexer/methods.py’ saved [431/431]\n",
            "\n",
            "--2021-07-12 18:14:17--  https://raw.githubusercontent.com/rogerioag/rea-comp04-compiladores/main/cmmcompiler/lexer/regexs.py\n",
            "Resolving raw.githubusercontent.com (raw.githubusercontent.com)... 185.199.108.133, 185.199.109.133, 185.199.110.133, ...\n",
            "Connecting to raw.githubusercontent.com (raw.githubusercontent.com)|185.199.108.133|:443... connected.\n",
            "HTTP request sent, awaiting response... 200 OK\n",
            "Length: 467 [text/plain]\n",
            "Saving to: ‘lexer/regexs.py’\n",
            "\n",
            "lexer/regexs.py     100%[===================>]     467  --.-KB/s    in 0s      \n",
            "\n",
            "2021-07-12 18:14:17 (19.5 MB/s) - ‘lexer/regexs.py’ saved [467/467]\n",
            "\n",
            "--2021-07-12 18:14:17--  https://raw.githubusercontent.com/rogerioag/rea-comp04-compiladores/main/cmmcompiler/lexer/tokens.py\n",
            "Resolving raw.githubusercontent.com (raw.githubusercontent.com)... 185.199.111.133, 185.199.108.133, 185.199.109.133, ...\n",
            "Connecting to raw.githubusercontent.com (raw.githubusercontent.com)|185.199.111.133|:443... connected.\n",
            "HTTP request sent, awaiting response... 200 OK\n",
            "Length: 1306 (1.3K) [text/plain]\n",
            "Saving to: ‘lexer/tokens.py’\n",
            "\n",
            "lexer/tokens.py     100%[===================>]   1.28K  --.-KB/s    in 0s      \n",
            "\n",
            "2021-07-12 18:14:17 (78.4 MB/s) - ‘lexer/tokens.py’ saved [1306/1306]\n",
            "\n",
            "--2021-07-12 18:14:17--  https://raw.githubusercontent.com/rogerioag/rea-comp04-compiladores/main/cmmcompiler/main.py\n",
            "Resolving raw.githubusercontent.com (raw.githubusercontent.com)... 185.199.109.133, 185.199.110.133, 185.199.111.133, ...\n",
            "Connecting to raw.githubusercontent.com (raw.githubusercontent.com)|185.199.109.133|:443... connected.\n",
            "HTTP request sent, awaiting response... 200 OK\n",
            "Length: 538 [text/plain]\n",
            "Saving to: ‘main.py’\n",
            "\n",
            "main.py             100%[===================>]     538  --.-KB/s    in 0s      \n",
            "\n",
            "2021-07-12 18:14:17 (17.7 MB/s) - ‘main.py’ saved [538/538]\n",
            "\n",
            "--2021-07-12 18:14:18--  https://raw.githubusercontent.com/rogerioag/rea-comp04-compiladores/main/cmmcompiler/utils/__init__.py\n",
            "Resolving raw.githubusercontent.com (raw.githubusercontent.com)... 185.199.108.133, 185.199.109.133, 185.199.110.133, ...\n",
            "Connecting to raw.githubusercontent.com (raw.githubusercontent.com)|185.199.108.133|:443... connected.\n",
            "HTTP request sent, awaiting response... 200 OK\n",
            "Length: 40 [text/plain]\n",
            "Saving to: ‘utils/__init__.py’\n",
            "\n",
            "utils/__init__.py   100%[===================>]      40  --.-KB/s    in 0s      \n",
            "\n",
            "2021-07-12 18:14:18 (1.99 MB/s) - ‘utils/__init__.py’ saved [40/40]\n",
            "\n",
            "--2021-07-12 18:14:18--  https://raw.githubusercontent.com/rogerioag/rea-comp04-compiladores/main/cmmcompiler/utils/args.py\n",
            "Resolving raw.githubusercontent.com (raw.githubusercontent.com)... 185.199.108.133, 185.199.109.133, 185.199.110.133, ...\n",
            "Connecting to raw.githubusercontent.com (raw.githubusercontent.com)|185.199.108.133|:443... connected.\n",
            "HTTP request sent, awaiting response... 200 OK\n",
            "Length: 540 [text/plain]\n",
            "Saving to: ‘utils/args.py’\n",
            "\n",
            "utils/args.py       100%[===================>]     540  --.-KB/s    in 0s      \n",
            "\n",
            "2021-07-12 18:14:18 (17.4 MB/s) - ‘utils/args.py’ saved [540/540]\n",
            "\n",
            "--2021-07-12 18:14:18--  https://raw.githubusercontent.com/rogerioag/rea-comp04-compiladores/main/cmmcompiler/utils/graph.py\n",
            "Resolving raw.githubusercontent.com (raw.githubusercontent.com)... 185.199.108.133, 185.199.109.133, 185.199.110.133, ...\n",
            "Connecting to raw.githubusercontent.com (raw.githubusercontent.com)|185.199.108.133|:443... connected.\n",
            "HTTP request sent, awaiting response... 200 OK\n",
            "Length: 943 [text/plain]\n",
            "Saving to: ‘utils/graph.py’\n",
            "\n",
            "utils/graph.py      100%[===================>]     943  --.-KB/s    in 0s      \n",
            "\n",
            "2021-07-12 18:14:18 (60.2 MB/s) - ‘utils/graph.py’ saved [943/943]\n",
            "\n"
          ],
          "name": "stdout"
        }
      ]
    },
    {
      "cell_type": "code",
      "metadata": {
        "colab": {
          "base_uri": "https://localhost:8080/"
        },
        "id": "g3CciW1-tIp1",
        "outputId": "ef074c39-af2e-4323-e0b6-4e4ed872504f"
      },
      "source": [
        "! git clone https://github.com/rogerioag/rea-comp04-compiladores.git\n",
        "! cp -R rea-comp04-compiladores/cmmcompiler/* .\n",
        "! cp -R rea-comp04-compiladores/cmmcompiler/tests/* .\n"
      ],
      "execution_count": null,
      "outputs": [
        {
          "output_type": "stream",
          "text": [
            "Cloning into 'rea-comp04-compiladores'...\n",
            "remote: Enumerating objects: 263, done.\u001b[K\n",
            "remote: Counting objects: 100% (263/263), done.\u001b[K\n",
            "remote: Compressing objects: 100% (223/223), done.\u001b[K\n",
            "remote: Total 263 (delta 129), reused 126 (delta 33), pack-reused 0\u001b[K\n",
            "Receiving objects: 100% (263/263), 567.91 KiB | 7.10 MiB/s, done.\n",
            "Resolving deltas: 100% (129/129), done.\n"
          ],
          "name": "stdout"
        }
      ]
    },
    {
      "cell_type": "code",
      "metadata": {
        "colab": {
          "base_uri": "https://localhost:8080/"
        },
        "id": "6geznynhxI0t",
        "outputId": "110f77eb-f8f9-4dc8-de60-2f7484935f67"
      },
      "source": [
        "! python main.py -l prog-001.cm"
      ],
      "execution_count": null,
      "outputs": [
        {
          "output_type": "stream",
          "text": [
            "Generating LALR tables\n",
            "WARNING: 1 shift/reduce conflict\n",
            "INT int\n",
            "ID main\n",
            "LPAREN (\n",
            "VOID void\n",
            "RPAREN )\n",
            "LBRACES {\n",
            "RETURN return\n",
            "LPAREN (\n",
            "NUMBER 0\n",
            "RPAREN )\n",
            "SEMICOLON ;\n",
            "RBRACES }\n"
          ],
          "name": "stdout"
        }
      ]
    },
    {
      "cell_type": "markdown",
      "metadata": {
        "id": "jH-N4tXNhxlR"
      },
      "source": [
        "## Trabalho de Implementação\n",
        "\n",
        "A gramática da linguagem `C-` tem suporte somente para os tipos `int` e `void`. Como Trabalho de Implementação vinculado à _Análise Léxica_, além da implementação do `Analisador Léxico` pode ser solicitado aos alunos que implementem o suporte ao tipo `float`, para que seja possível trabalhar com variáveis do tipo ponto flutuante.\n",
        "\n",
        "Que se daria pela inclusão de _float_ na lista de palavras _reservadas_:\n",
        "\n",
        "```c\n",
        "reserved = {\n",
        "    'else': 'ELSE',\n",
        "    'if': 'IF',\n",
        "    'int': 'INT',\n",
        "    'float': 'FLOAT', // Adição do float.\n",
        "    'return': 'RETURN',\n",
        "    'void': 'VOID',\n",
        "    'while': 'WHILE',\n",
        "}\n",
        "```\n",
        "\n",
        "E pela adição do _token_ para _float_ na lista de _tokens_:\n",
        "\n",
        "```c\n",
        "TOKENS_SYMBOLS = {\n",
        "    'PLUS': '+',\n",
        "    'MINUS': '-',\n",
        "    'TIMES': '*',\n",
        "    'DIVIDE': '/',\n",
        "    'LESS_EQUAL': '<=',\n",
        "    'LESS': '<',\n",
        "    'GREATER_EQUAL': '>=',\n",
        "    'GREATER': '>',\n",
        "    'EQUALS': '==',\n",
        "    'DIFFERENT': '!=',\n",
        "    'LPAREN': '(',\n",
        "    'RPAREN': ')',\n",
        "    'LBRACKETS': '[',\n",
        "    'RBRACKETS': ']',\n",
        "    'LBRACES': '{',\n",
        "    'RBRACES': '}',\n",
        "    'ATTRIBUTION': '=',\n",
        "    'SEMICOLON': ';',\n",
        "    'COMMA': ',',\n",
        "    'ELSE': 'else',\n",
        "    'IF': 'if',\n",
        "    'INT': 'int',\n",
        "    'FLOAT': 'float', // Adição do Token FLOAT.\n",
        "    'RETURN': 'return',\n",
        "    'VOID': 'void',\n",
        "    'WHILE': 'while',\n",
        "}\n",
        "```\n"
      ]
    }
  ]
}