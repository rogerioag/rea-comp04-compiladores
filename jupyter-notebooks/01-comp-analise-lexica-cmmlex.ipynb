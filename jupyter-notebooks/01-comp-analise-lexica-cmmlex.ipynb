{
  "nbformat": 4,
  "nbformat_minor": 0,
  "metadata": {
    "colab": {
      "name": "01-comp-analise-lexica-cmmlex.ipynb",
      "provenance": [],
      "collapsed_sections": [],
      "authorship_tag": "ABX9TyOpJV4nI4cAg0VR48oklpa9",
      "include_colab_link": true
    },
    "kernelspec": {
      "name": "python3",
      "display_name": "Python 3"
    },
    "language_info": {
      "name": "python"
    }
  },
  "cells": [
    {
      "cell_type": "markdown",
      "metadata": {
        "id": "view-in-github",
        "colab_type": "text"
      },
      "source": [
        "<a href=\"https://colab.research.google.com/github/rogerioag/rea-comp04-compiladores/blob/main/jupyter-notebooks/01-comp-analise-lexica-cmmlex.ipynb\" target=\"_parent\"><img src=\"https://colab.research.google.com/assets/colab-badge.svg\" alt=\"Open In Colab\"/></a>"
      ]
    },
    {
      "cell_type": "code",
      "metadata": {
        "colab": {
          "base_uri": "https://localhost:8080/"
        },
        "id": "A9TX9STdBDfD",
        "outputId": "d3df3a16-606a-45a2-c178-abcbd8e3a140"
      },
      "source": [
        "!pip install ply\n",
        "!pip install anytree\n",
        "!pip install graphviz\n",
        "!pip install llvmlite\n",
        "!jupyter nbextension install https://rawgit.com/jfbercher/small_nbextensions/master/highlighter.zip  --user\n",
        "!jupyter nbextension enable highlighter/highlighter"
      ],
      "execution_count": 12,
      "outputs": [
        {
          "output_type": "stream",
          "text": [
            "Collecting ply\n",
            "\u001b[?25l  Downloading https://files.pythonhosted.org/packages/a3/58/35da89ee790598a0700ea49b2a66594140f44dec458c07e8e3d4979137fc/ply-3.11-py2.py3-none-any.whl (49kB)\n",
            "\r\u001b[K     |██████▋                         | 10kB 14.3MB/s eta 0:00:01\r\u001b[K     |█████████████▏                  | 20kB 10.3MB/s eta 0:00:01\r\u001b[K     |███████████████████▉            | 30kB 6.1MB/s eta 0:00:01\r\u001b[K     |██████████████████████████▍     | 40kB 5.5MB/s eta 0:00:01\r\u001b[K     |████████████████████████████████| 51kB 2.0MB/s \n",
            "\u001b[?25hInstalling collected packages: ply\n",
            "Successfully installed ply-3.11\n",
            "Collecting anytree\n",
            "\u001b[?25l  Downloading https://files.pythonhosted.org/packages/a8/65/be23d8c3ecd68d40541d49812cd94ed0f3ee37eb88669ca15df0e43daed1/anytree-2.8.0-py2.py3-none-any.whl (41kB)\n",
            "\u001b[K     |████████████████████████████████| 51kB 2.1MB/s \n",
            "\u001b[?25hRequirement already satisfied: six>=1.9.0 in /usr/local/lib/python3.7/dist-packages (from anytree) (1.15.0)\n",
            "Installing collected packages: anytree\n",
            "Successfully installed anytree-2.8.0\n",
            "Requirement already satisfied: graphviz in /usr/local/lib/python3.7/dist-packages (0.10.1)\n",
            "Requirement already satisfied: llvmlite in /usr/local/lib/python3.7/dist-packages (0.34.0)\n",
            "Downloading: https://rawgit.com/jfbercher/small_nbextensions/master/highlighter.zip -> /tmp/tmpZzhg0e/highlighter.zip\n",
            "Extracting: /tmp/tmpZzhg0e/highlighter.zip -> /root/.local/share/jupyter/nbextensions\n",
            "Enabling notebook extension highlighter/highlighter...\n",
            "      - Validating: \u001b[32mOK\u001b[0m\n"
          ],
          "name": "stdout"
        }
      ]
    },
    {
      "cell_type": "code",
      "metadata": {
        "id": "dNT8lJABWX9l",
        "colab": {
          "base_uri": "https://localhost:8080/",
          "height": 17
        },
        "outputId": "25ea203d-fe6c-4b3f-a9f1-f59c08dd74a7"
      },
      "source": [
        "%%javascript\n",
        "require(\"base/js/utils\").load_extensions(\"highlighter/highlighter\")"
      ],
      "execution_count": null,
      "outputs": [
        {
          "output_type": "display_data",
          "data": {
            "application/javascript": [
              "require(\"base/js/utils\").load_extensions(\"highlighter/highlighter\")"
            ],
            "text/plain": [
              "<IPython.core.display.Javascript object>"
            ]
          },
          "metadata": {
            "tags": []
          }
        }
      ]
    },
    {
      "cell_type": "code",
      "metadata": {
        "id": "EGxUtELATG9J"
      },
      "source": [
        "from sys import argv, exit\n",
        "\n",
        "import logging\n",
        "logging.basicConfig(\n",
        "     level = logging.DEBUG,\n",
        "     filename = \"log.txt\",\n",
        "     filemode = \"w\",\n",
        "     format = \"%(filename)10s:%(lineno)4d:%(message)s\"\n",
        ")\n",
        "log = logging.getLogger()\n",
        "\n",
        "import ply.lex as lex\n",
        "from ply.lex import TOKEN"
      ],
      "execution_count": 5,
      "outputs": []
    },
    {
      "cell_type": "code",
      "metadata": {
        "id": "nAOrk6zIm3Gr"
      },
      "source": [
        "__all__ = ['tokens', 'TOKENS_SYMBOLS']\n",
        "\n",
        "reserved = {\n",
        "    'else': 'ELSE',\n",
        "    'if': 'IF',\n",
        "    'int': 'INT',\n",
        "    'return': 'RETURN',\n",
        "    'void': 'VOID',\n",
        "    'while': 'WHILE',\n",
        "}\n",
        "\n",
        "math_symbols = [\n",
        "    'PLUS',  # +\n",
        "    'MINUS',  # -\n",
        "    'TIMES',  # *\n",
        "    'DIVIDE'  # /\n",
        "]\n",
        "\n",
        "comparison_symbols = [\n",
        "    'LESS_EQUAL',  # <=\n",
        "    'LESS',  # <\n",
        "    'GREATER_EQUAL',  # >=\n",
        "    'GREATER',  # >\n",
        "    'EQUALS',  # ==\n",
        "    'DIFFERENT',  # !=\n",
        "]\n",
        "\n",
        "control_symbols = [\n",
        "    'LPAREN',  # (\n",
        "    'RPAREN',  # )\n",
        "    'LBRACKETS',  # [\n",
        "    'RBRACKETS',  # ]\n",
        "    'LBRACES',  # {\n",
        "    'RBRACES',  # }\n",
        "    'ATTRIBUTION',  # =\n",
        "    'SEMICOLON',  # ;\n",
        "    'COMMA',  # ,\n",
        "]\n",
        "\n",
        "markers = [\n",
        "    'ID',\n",
        "    'NUMBER',\n",
        "]\n",
        "\n",
        "TOKENS_SYMBOLS = {\n",
        "    'PLUS': '+',\n",
        "    'MINUS': '-',\n",
        "    'TIMES': '*',\n",
        "    'DIVIDE': '/',\n",
        "    'LESS_EQUAL': '<=',\n",
        "    'LESS': '<',\n",
        "    'GREATER_EQUAL': '>=',\n",
        "    'GREATER': '>',\n",
        "    'EQUALS': '==',\n",
        "    'DIFFERENT': '!=',\n",
        "    'LPAREN': '(',\n",
        "    'RPAREN': ')',\n",
        "    'LBRACKETS': '[',\n",
        "    'RBRACKETS': ']',\n",
        "    'LBRACES': '{',\n",
        "    'RBRACES': '}',\n",
        "    'ATTRIBUTION': '=',\n",
        "    'SEMICOLON': ';',\n",
        "    'COMMA': ',',\n",
        "    'ELSE': 'else',\n",
        "    'IF': 'if',\n",
        "    'INT': 'int',\n",
        "    'RETURN': 'return',\n",
        "    'VOID': 'void',\n",
        "    'WHILE': 'while',\n",
        "}\n",
        "\n",
        "tokens = markers + math_symbols + comparison_symbols + \\\n",
        "    control_symbols + list(reserved.values())\n"
      ],
      "execution_count": 6,
      "outputs": []
    },
    {
      "cell_type": "code",
      "metadata": {
        "id": "wo_nkB54m_-P"
      },
      "source": [
        "id_regex = r'[a-zA-Z][a-zA-Z]*'\n",
        "comment_regex = r'\\/\\*[^\\r]*\\*\\/'\n",
        "\n",
        "#! MATH\n",
        "t_PLUS = r'\\+'\n",
        "t_MINUS = r'-'\n",
        "t_TIMES = r'\\*'\n",
        "t_DIVIDE = r'/'\n",
        "\n",
        "#! COMPARISON\n",
        "t_LESS_EQUAL = r'<='\n",
        "t_LESS = r'<'\n",
        "t_GREATER_EQUAL = r'>='\n",
        "t_GREATER = r'>'\n",
        "t_EQUALS = r'=='\n",
        "t_DIFFERENT = r'!='\n",
        "\n",
        "#! CONTROL\n",
        "t_LPAREN = r'\\('\n",
        "t_RPAREN = r'\\)'\n",
        "t_LBRACKETS = r'\\['\n",
        "t_RBRACKETS = r'\\]'\n",
        "t_LBRACES = r'{'\n",
        "t_RBRACES = r'}'\n",
        "t_ATTRIBUTION = r'='\n",
        "t_SEMICOLON = r';'\n",
        "t_COMMA = r','\n",
        "\n",
        "t_NUMBER = r'[0-9][0-9]*'\n"
      ],
      "execution_count": 7,
      "outputs": []
    },
    {
      "cell_type": "code",
      "metadata": {
        "id": "PIvcrpB_nJn6"
      },
      "source": [
        "t_ignore = ' \\t'\n",
        "\n",
        "@TOKEN(id_regex)\n",
        "def t_ID(t):\n",
        "    t.type = reserved.get(t.value, 'ID')\n",
        "    return t\n",
        "\n",
        "@TOKEN(comment_regex)\n",
        "def t_ignore_COMMENT(r):\n",
        "    pass\n",
        "\n",
        "def t_newline(t):\n",
        "    r'\\n+'\n",
        "    t.lexer.lineno += len(t.value)\n",
        "\n",
        "def t_error(t):\n",
        "    print(\"Símbolo não definido pela linguagem '%s'\" % t.value[0])\n",
        "    t.lexer.skip(1)"
      ],
      "execution_count": 8,
      "outputs": []
    },
    {
      "cell_type": "code",
      "metadata": {
        "id": "N4n4IwfrnZWK"
      },
      "source": [
        "def get_tokens(input):\n",
        "    lexer = lex.lex()\n",
        "    lexer.input(input)\n",
        "\n",
        "    tokens = []\n",
        "    token = lexer.token()\n",
        "    while token:\n",
        "        tokens.append(token)\n",
        "        token = lexer.token()\n",
        "        pass\n",
        "\n",
        "    return tokens\n",
        "    pass\n",
        "\n",
        "\n",
        "# lexer = lex.lex()"
      ],
      "execution_count": 13,
      "outputs": []
    },
    {
      "cell_type": "code",
      "metadata": {
        "id": "ln8ZD1zsn_Ve"
      },
      "source": [
        "def main():\n",
        "    argv[1] = 'prog-001.cm'\n",
        "    aux = argv[1].split('.')\n",
        "    if aux[-1] != 'cm':\n",
        "      raise IOError(\"Not a .cm file!\")\n",
        "    data = open(argv[1])\n",
        "\n",
        "    source_file = data.read()\n",
        "    lexer.input(source_file)\n",
        "\n",
        "    # Tokenize\n",
        "    while True:\n",
        "      tok = lexer.token()\n",
        "      if not tok: \n",
        "        break      # No more input\n",
        "      # print(tok)\n",
        "      print(tok.type)\n",
        "      #print(tok.value)"
      ],
      "execution_count": 26,
      "outputs": []
    },
    {
      "cell_type": "code",
      "metadata": {
        "colab": {
          "base_uri": "https://localhost:8080/"
        },
        "id": "RrbK5GmloEnt",
        "outputId": "7a2986c5-cc0b-4c87-aeca-4c16971e0610"
      },
      "source": [
        "# Build the lexer.\n",
        "__file__ = \"01-comp-analise-lexica-cmmlex.ipynb\"\n",
        "lexer = lex.lex(optimize=True,debug=True,debuglog=log)\n",
        "\n",
        "if __name__ == \"__main__\":\n",
        "    main()"
      ],
      "execution_count": 29,
      "outputs": [
        {
          "output_type": "stream",
          "text": [
            "INT\n",
            "ID\n",
            "LPAREN\n",
            "RPAREN\n",
            "LBRACES\n",
            "RETURN\n",
            "NUMBER\n",
            "SEMICOLON\n",
            "RBRACES\n"
          ],
          "name": "stdout"
        }
      ]
    },
    {
      "cell_type": "code",
      "metadata": {
        "colab": {
          "base_uri": "https://localhost:8080/"
        },
        "id": "efpzLNvTpZCP",
        "outputId": "5edd7350-2623-41c7-da65-42e0a9a4059f"
      },
      "source": [
        "%%writefile prog-001.cm\n",
        "\n",
        "int main(){\n",
        "    return 0;\n",
        "}"
      ],
      "execution_count": 28,
      "outputs": [
        {
          "output_type": "stream",
          "text": [
            "Overwriting prog-001.cm\n"
          ],
          "name": "stdout"
        }
      ]
    },
    {
      "cell_type": "code",
      "metadata": {
        "colab": {
          "base_uri": "https://localhost:8080/"
        },
        "id": "bgpJmj18oO18",
        "outputId": "14bb9909-2116-4fca-ccfa-d4b2ac3e529d"
      },
      "source": [
        "%%writefile prog-002.cm\n",
        "\n",
        "int gcd (int u, int v){\n",
        "  if (v == 0) return u;\n",
        "  else return gcd(v,u-u/v*v);\n",
        "  /8 u-u/v*v == u mod v */\n",
        "}\n",
        "\n",
        "void main(void){\n",
        "  int x; int y;\n",
        "  x = input();\n",
        "  y = input();\n",
        "  output(gcd(x,y));\n",
        "}"
      ],
      "execution_count": 30,
      "outputs": [
        {
          "output_type": "stream",
          "text": [
            "Writing prog-002.cm\n"
          ],
          "name": "stdout"
        }
      ]
    },
    {
      "cell_type": "code",
      "metadata": {
        "colab": {
          "base_uri": "https://localhost:8080/"
        },
        "id": "3YxtiNTXrepQ",
        "outputId": "9be6e279-bd0c-4073-eee0-ca219af7e4d4"
      },
      "source": [
        "! mkdir lexer\n",
        "! wget -O lexer/__init__.py https://raw.githubusercontent.com/rogerioag/rea-comp04-compiladores/main/cmmcompiler/lexer/__init__.py\n",
        "! wget -O lexer/methods.py https://raw.githubusercontent.com/rogerioag/rea-comp04-compiladores/main/cmmcompiler/lexer/methods.py\n",
        "! wget -O lexer/regexs.py https://raw.githubusercontent.com/rogerioag/rea-comp04-compiladores/main/cmmcompiler/lexer/regexs.py\n",
        "! wget -O lexer/tokens.py https://raw.githubusercontent.com/rogerioag/rea-comp04-compiladores/main/cmmcompiler/lexer/tokens.py\n",
        "! wget -O main.py https://raw.githubusercontent.com/rogerioag/rea-comp04-compiladores/main/cmmcompiler/main.py\n",
        "! mkdir utils\n",
        "! wget -O utils/__init__.py https://raw.githubusercontent.com/rogerioag/rea-comp04-compiladores/main/cmmcompiler/utils/__init__.py\n",
        "! wget -O utils/args.py https://raw.githubusercontent.com/rogerioag/rea-comp04-compiladores/main/cmmcompiler/utils/args.py\n",
        "! wget -O utils/graph.py https://raw.githubusercontent.com/rogerioag/rea-comp04-compiladores/main/cmmcompiler/utils/graph.py\n"
      ],
      "execution_count": 10,
      "outputs": [
        {
          "output_type": "stream",
          "text": [
            "mkdir: cannot create directory ‘lexer’: File exists\n",
            "--2021-06-30 20:55:18--  https://raw.githubusercontent.com/rogerioag/rea-comp04-compiladores/main/cmmcompiler/lexer/__init__.py\n",
            "Resolving raw.githubusercontent.com (raw.githubusercontent.com)... 185.199.110.133, 185.199.108.133, 185.199.111.133, ...\n",
            "Connecting to raw.githubusercontent.com (raw.githubusercontent.com)|185.199.110.133|:443... connected.\n",
            "HTTP request sent, awaiting response... 200 OK\n",
            "Length: 662 [text/plain]\n",
            "Saving to: ‘lexer/__init__.py’\n",
            "\n",
            "lexer/__init__.py   100%[===================>]     662  --.-KB/s    in 0s      \n",
            "\n",
            "2021-06-30 20:55:18 (24.6 MB/s) - ‘lexer/__init__.py’ saved [662/662]\n",
            "\n",
            "--2021-06-30 20:55:18--  https://raw.githubusercontent.com/rogerioag/rea-comp04-compiladores/main/cmmcompiler/lexer/methods.py\n",
            "Resolving raw.githubusercontent.com (raw.githubusercontent.com)... 185.199.108.133, 185.199.109.133, 185.199.110.133, ...\n",
            "Connecting to raw.githubusercontent.com (raw.githubusercontent.com)|185.199.108.133|:443... connected.\n",
            "HTTP request sent, awaiting response... 200 OK\n",
            "Length: 431 [text/plain]\n",
            "Saving to: ‘lexer/methods.py’\n",
            "\n",
            "lexer/methods.py    100%[===================>]     431  --.-KB/s    in 0s      \n",
            "\n",
            "2021-06-30 20:55:18 (18.4 MB/s) - ‘lexer/methods.py’ saved [431/431]\n",
            "\n",
            "--2021-06-30 20:55:18--  https://raw.githubusercontent.com/rogerioag/rea-comp04-compiladores/main/cmmcompiler/lexer/regexs.py\n",
            "Resolving raw.githubusercontent.com (raw.githubusercontent.com)... 185.199.109.133, 185.199.108.133, 185.199.110.133, ...\n",
            "Connecting to raw.githubusercontent.com (raw.githubusercontent.com)|185.199.109.133|:443... connected.\n",
            "HTTP request sent, awaiting response... 200 OK\n",
            "Length: 467 [text/plain]\n",
            "Saving to: ‘lexer/regexs.py’\n",
            "\n",
            "lexer/regexs.py     100%[===================>]     467  --.-KB/s    in 0s      \n",
            "\n",
            "2021-06-30 20:55:19 (24.3 MB/s) - ‘lexer/regexs.py’ saved [467/467]\n",
            "\n",
            "--2021-06-30 20:55:19--  https://raw.githubusercontent.com/rogerioag/rea-comp04-compiladores/main/cmmcompiler/lexer/tokens.py\n",
            "Resolving raw.githubusercontent.com (raw.githubusercontent.com)... 185.199.108.133, 185.199.109.133, 185.199.110.133, ...\n",
            "Connecting to raw.githubusercontent.com (raw.githubusercontent.com)|185.199.108.133|:443... connected.\n",
            "HTTP request sent, awaiting response... 200 OK\n",
            "Length: 1306 (1.3K) [text/plain]\n",
            "Saving to: ‘lexer/tokens.py’\n",
            "\n",
            "lexer/tokens.py     100%[===================>]   1.28K  --.-KB/s    in 0s      \n",
            "\n",
            "2021-06-30 20:55:19 (66.0 MB/s) - ‘lexer/tokens.py’ saved [1306/1306]\n",
            "\n",
            "--2021-06-30 20:55:19--  https://raw.githubusercontent.com/rogerioag/rea-comp04-compiladores/main/cmmcompiler/main.py\n",
            "Resolving raw.githubusercontent.com (raw.githubusercontent.com)... 185.199.110.133, 185.199.111.133, 185.199.108.133, ...\n",
            "Connecting to raw.githubusercontent.com (raw.githubusercontent.com)|185.199.110.133|:443... connected.\n",
            "HTTP request sent, awaiting response... 200 OK\n",
            "Length: 538 [text/plain]\n",
            "Saving to: ‘main.py’\n",
            "\n",
            "main.py             100%[===================>]     538  --.-KB/s    in 0s      \n",
            "\n",
            "2021-06-30 20:55:19 (40.7 MB/s) - ‘main.py’ saved [538/538]\n",
            "\n",
            "--2021-06-30 20:55:19--  https://raw.githubusercontent.com/rogerioag/rea-comp04-compiladores/main/cmmcompiler/utils/__init__.py\n",
            "Resolving raw.githubusercontent.com (raw.githubusercontent.com)... 185.199.108.133, 185.199.109.133, 185.199.110.133, ...\n",
            "Connecting to raw.githubusercontent.com (raw.githubusercontent.com)|185.199.108.133|:443... connected.\n",
            "HTTP request sent, awaiting response... 200 OK\n",
            "Length: 40 [text/plain]\n",
            "Saving to: ‘utils/__init__.py’\n",
            "\n",
            "utils/__init__.py   100%[===================>]      40  --.-KB/s    in 0s      \n",
            "\n",
            "2021-06-30 20:55:19 (1.86 MB/s) - ‘utils/__init__.py’ saved [40/40]\n",
            "\n",
            "--2021-06-30 20:55:19--  https://raw.githubusercontent.com/rogerioag/rea-comp04-compiladores/main/cmmcompiler/utils/args.py\n",
            "Resolving raw.githubusercontent.com (raw.githubusercontent.com)... 185.199.108.133, 185.199.109.133, 185.199.110.133, ...\n",
            "Connecting to raw.githubusercontent.com (raw.githubusercontent.com)|185.199.108.133|:443... connected.\n",
            "HTTP request sent, awaiting response... 200 OK\n",
            "Length: 540 [text/plain]\n",
            "Saving to: ‘utils/args.py’\n",
            "\n",
            "utils/args.py       100%[===================>]     540  --.-KB/s    in 0s      \n",
            "\n",
            "2021-06-30 20:55:19 (28.9 MB/s) - ‘utils/args.py’ saved [540/540]\n",
            "\n",
            "--2021-06-30 20:55:20--  https://raw.githubusercontent.com/rogerioag/rea-comp04-compiladores/main/cmmcompiler/utils/graph.py\n",
            "Resolving raw.githubusercontent.com (raw.githubusercontent.com)... 185.199.108.133, 185.199.109.133, 185.199.110.133, ...\n",
            "Connecting to raw.githubusercontent.com (raw.githubusercontent.com)|185.199.108.133|:443... connected.\n",
            "HTTP request sent, awaiting response... 200 OK\n",
            "Length: 943 [text/plain]\n",
            "Saving to: ‘utils/graph.py’\n",
            "\n",
            "utils/graph.py      100%[===================>]     943  --.-KB/s    in 0s      \n",
            "\n",
            "2021-06-30 20:55:20 (67.9 MB/s) - ‘utils/graph.py’ saved [943/943]\n",
            "\n"
          ],
          "name": "stdout"
        }
      ]
    },
    {
      "cell_type": "code",
      "metadata": {
        "colab": {
          "base_uri": "https://localhost:8080/"
        },
        "id": "g3CciW1-tIp1",
        "outputId": "069d8305-7637-45ff-8ff2-6396bdefc1f3"
      },
      "source": [
        "! git clone https://github.com/rogerioag/rea-comp04-compiladores.git\n",
        "! cp -R rea-comp04-compiladores/cmmcompiler/* .\n",
        "! cp -R rea-comp04-compiladores/cmmcompiler/tests/* .\n"
      ],
      "execution_count": 23,
      "outputs": [
        {
          "output_type": "stream",
          "text": [
            "fatal: destination path 'rea-comp04-compiladores' already exists and is not an empty directory.\n"
          ],
          "name": "stdout"
        }
      ]
    },
    {
      "cell_type": "code",
      "metadata": {
        "colab": {
          "base_uri": "https://localhost:8080/"
        },
        "id": "6geznynhxI0t",
        "outputId": "66fb6060-a3ad-427e-f256-bd9d7236f076"
      },
      "source": [
        "! python main.py -l prog-001.cm"
      ],
      "execution_count": 24,
      "outputs": [
        {
          "output_type": "stream",
          "text": [
            "INT int\n",
            "ID main\n",
            "LPAREN (\n",
            "VOID void\n",
            "RPAREN )\n",
            "LBRACES {\n",
            "RETURN return\n",
            "LPAREN (\n",
            "NUMBER 0\n",
            "RPAREN )\n",
            "SEMICOLON ;\n",
            "RBRACES }\n"
          ],
          "name": "stdout"
        }
      ]
    }
  ]
}