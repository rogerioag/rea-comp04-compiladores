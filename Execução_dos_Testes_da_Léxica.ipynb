{
  "nbformat": 4,
  "nbformat_minor": 0,
  "metadata": {
    "colab": {
      "name": "Execução dos Testes da Léxica.ipynb",
      "provenance": [],
      "authorship_tag": "ABX9TyM+vZah8Z/uNrLsZoCQ/zTG",
      "include_colab_link": true
    },
    "kernelspec": {
      "name": "python3",
      "display_name": "Python 3"
    }
  },
  "cells": [
    {
      "cell_type": "markdown",
      "metadata": {
        "id": "view-in-github",
        "colab_type": "text"
      },
      "source": [
        "<a href=\"https://colab.research.google.com/github/rogerioag/rea-comp04-compiladores/blob/main/Execu%C3%A7%C3%A3o_dos_Testes_da_L%C3%A9xica.ipynb\" target=\"_parent\"><img src=\"https://colab.research.google.com/assets/colab-badge.svg\" alt=\"Open In Colab\"/></a>"
      ]
    },
    {
      "cell_type": "markdown",
      "metadata": {
        "id": "OfUuBs5f9x5v"
      },
      "source": [
        ""
      ]
    },
    {
      "cell_type": "markdown",
      "metadata": {
        "id": "BzQXw87XsjOp"
      },
      "source": [
        "# Execução dos Testes da Análise Léxica\n",
        "\n",
        "1. Faça uma cópia desse script do Colab para seu Google Drive, vá em _Arquivo_ e depois em _Salvar Cópia no Drive_.\n",
        "\n",
        "2. Execute as células na sequência e enviei ao final o __Relatório de Execução dos Testes__ que será gerado pelo _script_ `run-testes.sh`."
      ]
    },
    {
      "cell_type": "markdown",
      "metadata": {
        "id": "qynyxeDPtP8f"
      },
      "source": [
        "# Instalação do `PLY`"
      ]
    },
    {
      "cell_type": "code",
      "metadata": {
        "colab": {
          "base_uri": "https://localhost:8080/"
        },
        "id": "Z2a2cLhIJGoX",
        "outputId": "7a5cca82-4837-4fe2-910a-d8aa9d0310a1"
      },
      "source": [
        "!pip install ply"
      ],
      "execution_count": 1,
      "outputs": [
        {
          "output_type": "stream",
          "text": [
            "Collecting ply\n",
            "\u001b[?25l  Downloading https://files.pythonhosted.org/packages/a3/58/35da89ee790598a0700ea49b2a66594140f44dec458c07e8e3d4979137fc/ply-3.11-py2.py3-none-any.whl (49kB)\n",
            "\r\u001b[K     |██████▋                         | 10kB 14.8MB/s eta 0:00:01\r\u001b[K     |█████████████▏                  | 20kB 21.1MB/s eta 0:00:01\r\u001b[K     |███████████████████▉            | 30kB 25.1MB/s eta 0:00:01\r\u001b[K     |██████████████████████████▍     | 40kB 24.6MB/s eta 0:00:01\r\u001b[K     |████████████████████████████████| 51kB 3.8MB/s \n",
            "\u001b[?25hInstalling collected packages: ply\n",
            "Successfully installed ply-3.11\n"
          ],
          "name": "stdout"
        }
      ]
    },
    {
      "cell_type": "markdown",
      "metadata": {
        "id": "ypNDe9s_hSKb"
      },
      "source": [
        "# Faça _upload_ do arquivo `lexica-testes.zip`"
      ]
    },
    {
      "cell_type": "code",
      "metadata": {
        "colab": {
          "resources": {
            "http://localhost:8080/nbextensions/google.colab/files.js": {
              "data": "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",
              "ok": true,
              "headers": [
                [
                  "content-type",
                  "application/javascript"
                ]
              ],
              "status": 200,
              "status_text": ""
            }
          },
          "base_uri": "https://localhost:8080/",
          "height": 109
        },
        "id": "la3GEOyDJ9nd",
        "outputId": "8d9154b8-31d1-4b2b-b900-f1d3c6f8e001"
      },
      "source": [
        "from google.colab import files\n",
        "files.upload()"
      ],
      "execution_count": 7,
      "outputs": [
        {
          "output_type": "display_data",
          "data": {
            "text/html": [
              "\n",
              "     <input type=\"file\" id=\"files-fd7fc23c-16de-48c1-8707-9a0513bb6650\" name=\"files[]\" multiple disabled\n",
              "        style=\"border:none\" />\n",
              "     <output id=\"result-fd7fc23c-16de-48c1-8707-9a0513bb6650\">\n",
              "      Upload widget is only available when the cell has been executed in the\n",
              "      current browser session. Please rerun this cell to enable.\n",
              "      </output>\n",
              "      <script src=\"/nbextensions/google.colab/files.js\"></script> "
            ],
            "text/plain": [
              "<IPython.core.display.HTML object>"
            ]
          },
          "metadata": {
            "tags": []
          }
        },
        {
          "output_type": "stream",
          "text": [
            "Saving tpplex.py to tpplex (1).py\n"
          ],
          "name": "stdout"
        },
        {
          "output_type": "execute_result",
          "data": {
            "text/plain": [
              "{'tpplex.py': b'from ply.lex import TOKEN\\nimport ply.lex as lex\\nfrom sys import argv, exit\\n\\nimport logging\\nlogging.basicConfig(\\n    level=logging.DEBUG,\\n    filename=\"log.txt\",\\n    filemode=\"w\",\\n    format=\"%(filename)10s:%(lineno)4d:%(message)s\"\\n)\\nlog = logging.getLogger()\\n\\n\\ntokens = [\\n    \"ID\",  # identificador\\n    # numerais\\n    \"NUM_NOTACAO_CIENTIFICA\",  # ponto flutuante em nota\\xc3\\xa7ao cient\\xc3\\xadfica\\n    \"NUM_PONTO_FLUTUANTE\",  # ponto flutuate\\n    \"NUM_INTEIRO\",  # inteiro\\n    # operadores binarios\\n    \"MAIS\",  # +\\n    \"MENOS\",  # -\\n    \"MULTIPLICACAO\",  # *\\n    \"DIVISAO\",  # /\\n    \"E_LOGICO\",  # &&\\n    \"OU_LOGICO\",  # ||\\n    \"DIFERENCA\",  # <>\\n    \"MENOR_IGUAL\",  # <=\\n    \"MAIOR_IGUAL\",  # >=\\n    \"MENOR\",  # <\\n    \"MAIOR\",  # >\\n    \"IGUAL\",  # =\\n    # operadores unarios\\n    \"NEGACAO\",  # !\\n    # simbolos\\n    \"ABRE_PARENTESE\",  # (\\n    \"FECHA_PARENTESE\",  # )\\n    \"ABRE_COLCHETE\",  # [\\n    \"FECHA_COLCHETE\",  # ]\\n    \"VIRGULA\",  # ,\\n    \"DOIS_PONTOS\",  # :\\n    \"ATRIBUICAO\",  # :=\\n    # \\'COMENTARIO\\', # {***}\\n]\\n\\nreserved_words = {\\n    \"se\": \"SE\",\\n    \"ent\\xc3\\xa3o\": \"ENTAO\",\\n    \"sen\\xc3\\xa3o\": \"SENAO\",\\n    \"fim\": \"FIM\",\\n    \"repita\": \"REPITA\",\\n    \"flutuante\": \"FLUTUANTE\",\\n    \"retorna\": \"RETORNA\",\\n    \"at\\xc3\\xa9\": \"ATE\",\\n    \"leia\": \"LEIA\",\\n    \"escreva\": \"ESCREVA\",\\n    \"inteiro\": \"INTEIRO\",\\n}\\n\\ntokens = tokens + list(reserved_words.values())\\n\\ndigito = r\"([0-9])\"\\nletra = r\"([a-zA-Z\\xc3\\xa1\\xc3\\x81\\xc3\\xa3\\xc3\\x83\\xc3\\xa0\\xc3\\x80\\xc3\\xa9\\xc3\\x89\\xc3\\xad\\xc3\\x8d\\xc3\\xb3\\xc3\\x93\\xc3\\xb5\\xc3\\x95])\"\\nsinal = r\"([\\\\-\\\\+]?)\"\\n\\n\"\"\" \\n    id deve come\\xc3\\xa7ar com uma letra\\n\"\"\"\\nid = (\\n    r\"(\" + letra + r\"(\" + digito + r\"+|_|\" + letra + r\")*)\"\\n)  # o mesmo que \\'((letra)(letra|_|([0-9]))*)\\'\\n\\ninteiro = r\"(\" + sinal + digito + r\"+)\"\\n\\nflutuante = (\\n    # r\"(\" + digito + r\"+\\\\.\" + digito + r\"+?)\"\\n    # (([-\\\\+]?)([0-9]+)\\\\.([0-9]+))\\'\\n    r\\'\\\\d+[eE][-+]?\\\\d+|(\\\\.\\\\d+|\\\\d+\\\\.\\\\d*)([eE][-+]?\\\\d+)?\\'\\n    # r\\'[-+]?[0-9]+(\\\\.([0-9]+)?)\\'\\n    #r\\'[+-]?(\\\\d+(\\\\.\\\\d*)?|\\\\.\\\\d+)([eE][+-]?\\\\d+)?\\'\\n    #r\"(([-\\\\+]?)([0-9]+)\\\\.([0-9]+))\"\\n)\\n\\nnotacao_cientifica = (\\n    r\"(\" + sinal + r\"([1-9])\\\\.\" + digito + r\"+[eE]\" + sinal + digito + r\"+)\"\\n)  # o mesmo que \\'(([-\\\\+]?)([1-9])\\\\.([0-9])+[eE]([-\\\\+]?)([0-9]+))\\'\\n\\n# Express\\xc3\\xb5es Regulaes para tokens simples.\\n# S\\xc3\\xadmbolos.\\nt_MAIS = r\\'\\\\+\\'\\nt_MENOS = r\\'-\\'\\nt_MULTIPLICACAO = r\\'\\\\*\\'\\nt_DIVISAO = r\\'/\\'\\nt_ABRE_PARENTESE = r\\'\\\\(\\'\\nt_FECHA_PARENTESE = r\\'\\\\)\\'\\nt_ABRE_COLCHETE = r\\'\\\\[\\'\\nt_FECHA_COLCHETE = r\\'\\\\]\\'\\nt_VIRGULA = r\\',\\'\\nt_ATRIBUICAO = r\\':=\\'\\nt_DOIS_PONTOS = r\\':\\'\\n\\n# Operadores L\\xc3\\xb3gicos.\\nt_E_LOGICO = r\\'&&\\'\\nt_OU_LOGICO = r\\'\\\\|\\\\|\\'\\nt_NEGACAO = r\\'!\\'\\n\\n# Operadores Relacionais.\\nt_DIFERENCA = r\\'<>\\'\\nt_MENOR_IGUAL = r\\'<=\\'\\nt_MAIOR_IGUAL = r\\'>=\\'\\nt_MENOR = r\\'<\\'\\nt_MAIOR = r\\'>\\'\\nt_IGUAL = r\\'=\\'\\n\\n\\n@TOKEN(id)\\ndef t_ID(token):\\n    token.type = reserved_words.get(\\n        token.value, \"ID\"\\n    )  # n\\xc3\\xa3o \\xc3\\xa9 necess\\xc3\\xa1rio fazer regras/regex para cada palavra reservada\\n    # se o token n\\xc3\\xa3o for uma palavra reservada automaticamente \\xc3\\xa9 um id\\n    # As palavras reservadas t\\xc3\\xaam preced\\xc3\\xaancias sobre os ids\\n\\n    return token\\n\\n\\n@TOKEN(notacao_cientifica)\\ndef t_NUM_NOTACAO_CIENTIFICA(token):\\n    return token\\n\\n\\n@TOKEN(flutuante)\\ndef t_NUM_PONTO_FLUTUANTE(token):\\n    return token\\n\\n\\n@TOKEN(inteiro)\\ndef t_NUM_INTEIRO(token):\\n    return token\\n\\n\\nt_ignore = \" \\\\t\"\\n\\n\\n# t_COMENTARIO = r\\'(\\\\{((.|\\\\n)*?)\\\\})\\'\\n# para poder contar as quebras de linha dentro dos comentarios\\ndef t_COMENTARIO(token):\\n    r\"(\\\\{((.|\\\\n)*?)\\\\})\"\\n    token.lexer.lineno += token.value.count(\"\\\\n\")\\n    # return token\\n\\n\\ndef t_newline(token):\\n    r\"\\\\n+\"\\n    token.lexer.lineno += len(token.value)\\n\\n\\ndef define_column(input, lexpos):\\n    begin_line = input.rfind(\"\\\\n\", 0, lexpos) + 1\\n    return (lexpos - begin_line) + 1\\n\\n\\ndef t_error(token):\\n\\n    # file = token.lexer.filename\\n    line = token.lineno\\n    # column = define_column(token.lexer.backup_data, token.lexpos)\\n    message = \"Caracter inv\\xc3\\xa1lido \\'%s\\'\" % token.value[0]\\n\\n    # print(f\"[{file}]:[{line},{column}]: {message}.\")\\n    print(message)\\n\\n    token.lexer.skip(1)\\n\\n    # token.lexer.has_error = True\\n\\n\\ndef main():\\n    aux = argv[1].split(\\'.\\')\\n    if aux[-1] != \\'tpp\\':\\n      raise IOError(\"Not a .tpp file!\")\\n    data = open(argv[1])\\n\\n    source_file = data.read()\\n    lexer.input(source_file)\\n\\n    # Tokenize\\n    while True:\\n      tok = lexer.token()\\n      if not tok:\\n        break      # No more input\\n      #print(tok)\\n      print(tok.type)\\n      #print(tok.value)\\n\\n# Build the lexer.\\nlexer = lex.lex(optimize=True, debug=True, debuglog=log)\\n\\n\\ndef test(pdata):\\n  data = open(pdata)\\n  source_file = data.read()\\n  lexer.input(source_file)\\n\\n  s = \"\"\\n\\n  while True:\\n    tok = lexer.token()\\n    if not tok:\\n      break      # No more input\\n    s += str(tok.type) + \\'\\\\n\\'\\n\\n  return s\\n\\n\\nif __name__ == \"__main__\":\\n    main()\\n\\n\\n'}"
            ]
          },
          "metadata": {
            "tags": []
          },
          "execution_count": 7
        }
      ]
    },
    {
      "cell_type": "markdown",
      "metadata": {
        "id": "bxmlr5KzhgMO"
      },
      "source": [
        "# Faça _upload_ do arquivo do Analisar "
      ]
    },
    {
      "cell_type": "code",
      "metadata": {
        "colab": {
          "resources": {
            "http://localhost:8080/nbextensions/google.colab/files.js": {
              "data": "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",
              "ok": true,
              "headers": [
                [
                  "content-type",
                  "application/javascript"
                ]
              ],
              "status": 200,
              "status_text": ""
            }
          },
          "base_uri": "https://localhost:8080/",
          "height": 109
        },
        "id": "i43jf_NS9wPI",
        "outputId": "1f83a5b1-c7bd-4433-bcbd-bcb11286fbe8"
      },
      "source": [
        "from google.colab import files\n",
        "files.upload()"
      ],
      "execution_count": 3,
      "outputs": [
        {
          "output_type": "display_data",
          "data": {
            "text/html": [
              "\n",
              "     <input type=\"file\" id=\"files-9e0ed2f2-1c13-4d6e-8b7a-edb01bdb948f\" name=\"files[]\" multiple disabled\n",
              "        style=\"border:none\" />\n",
              "     <output id=\"result-9e0ed2f2-1c13-4d6e-8b7a-edb01bdb948f\">\n",
              "      Upload widget is only available when the cell has been executed in the\n",
              "      current browser session. Please rerun this cell to enable.\n",
              "      </output>\n",
              "      <script src=\"/nbextensions/google.colab/files.js\"></script> "
            ],
            "text/plain": [
              "<IPython.core.display.HTML object>"
            ]
          },
          "metadata": {
            "tags": []
          }
        },
        {
          "output_type": "stream",
          "text": [
            "Saving tpplex.py to tpplex.py\n"
          ],
          "name": "stdout"
        },
        {
          "output_type": "execute_result",
          "data": {
            "text/plain": [
              "{'tpplex.py': b'from ply.lex import TOKEN\\nimport ply.lex as lex\\nfrom sys import argv, exit\\n\\nimport logging\\nlogging.basicConfig(\\n    level=logging.DEBUG,\\n    filename=\"log.txt\",\\n    filemode=\"w\",\\n    format=\"%(filename)10s:%(lineno)4d:%(message)s\"\\n)\\nlog = logging.getLogger()\\n\\n\\ntokens = [\\n    \"ID\",  # identificador\\n    # numerais\\n    \"NUM_NOTACAO_CIENTIFICA\",  # ponto flutuante em nota\\xc3\\xa7ao cient\\xc3\\xadfica\\n    \"NUM_PONTO_FLUTUANTE\",  # ponto flutuate\\n    \"NUM_INTEIRO\",  # inteiro\\n    # operadores binarios\\n    \"MAIS\",  # +\\n    \"MENOS\",  # -\\n    \"MULTIPLICACAO\",  # *\\n    \"DIVISAO\",  # /\\n    \"E_LOGICO\",  # &&\\n    \"OU_LOGICO\",  # ||\\n    \"DIFERENCA\",  # <>\\n    \"MENOR_IGUAL\",  # <=\\n    \"MAIOR_IGUAL\",  # >=\\n    \"MENOR\",  # <\\n    \"MAIOR\",  # >\\n    \"IGUAL\",  # =\\n    # operadores unarios\\n    \"NEGACAO\",  # !\\n    # simbolos\\n    \"ABRE_PARENTESE\",  # (\\n    \"FECHA_PARENTESE\",  # )\\n    \"ABRE_COLCHETE\",  # [\\n    \"FECHA_COLCHETE\",  # ]\\n    \"VIRGULA\",  # ,\\n    \"DOIS_PONTOS\",  # :\\n    \"ATRIBUICAO\",  # :=\\n    # \\'COMENTARIO\\', # {***}\\n]\\n\\nreserved_words = {\\n    \"se\": \"SE\",\\n    \"ent\\xc3\\xa3o\": \"ENTAO\",\\n    \"sen\\xc3\\xa3o\": \"SENAO\",\\n    \"fim\": \"FIM\",\\n    \"repita\": \"REPITA\",\\n    \"flutuante\": \"FLUTUANTE\",\\n    \"retorna\": \"RETORNA\",\\n    \"at\\xc3\\xa9\": \"ATE\",\\n    \"leia\": \"LEIA\",\\n    \"escreva\": \"ESCREVA\",\\n    \"inteiro\": \"INTEIRO\",\\n}\\n\\ntokens = tokens + list(reserved_words.values())\\n\\ndigito = r\"([0-9])\"\\nletra = r\"([a-zA-Z\\xc3\\xa1\\xc3\\x81\\xc3\\xa3\\xc3\\x83\\xc3\\xa0\\xc3\\x80\\xc3\\xa9\\xc3\\x89\\xc3\\xad\\xc3\\x8d\\xc3\\xb3\\xc3\\x93\\xc3\\xb5\\xc3\\x95])\"\\nsinal = r\"([\\\\-\\\\+]?)\"\\n\\n\"\"\" \\n    id deve come\\xc3\\xa7ar com uma letra\\n\"\"\"\\nid = (\\n    r\"(\" + letra + r\"(\" + digito + r\"+|_|\" + letra + r\")*)\"\\n)  # o mesmo que \\'((letra)(letra|_|([0-9]))*)\\'\\n\\ninteiro = r\"(\" + sinal + digito + r\"+)\"\\n\\nflutuante = (\\n    # r\"(\" + digito + r\"+\\\\.\" + digito + r\"+?)\"\\n    # (([-\\\\+]?)([0-9]+)\\\\.([0-9]+))\\'\\n    r\\'\\\\d+[eE][-+]?\\\\d+|(\\\\.\\\\d+|\\\\d+\\\\.\\\\d*)([eE][-+]?\\\\d+)?\\'\\n    # r\\'[-+]?[0-9]+(\\\\.([0-9]+)?)\\'\\n    #r\\'[+-]?(\\\\d+(\\\\.\\\\d*)?|\\\\.\\\\d+)([eE][+-]?\\\\d+)?\\'\\n    #r\"(([-\\\\+]?)([0-9]+)\\\\.([0-9]+))\"\\n)\\n\\nnotacao_cientifica = (\\n    r\"(\" + sinal + r\"([1-9])\\\\.\" + digito + r\"+[eE]\" + sinal + digito + r\"+)\"\\n)  # o mesmo que \\'(([-\\\\+]?)([1-9])\\\\.([0-9])+[eE]([-\\\\+]?)([0-9]+))\\'\\n\\n# Express\\xc3\\xb5es Regulaes para tokens simples.\\n# S\\xc3\\xadmbolos.\\nt_MAIS = r\\'\\\\+\\'\\nt_MENOS = r\\'-\\'\\nt_MULTIPLICACAO = r\\'\\\\*\\'\\nt_DIVISAO = r\\'/\\'\\nt_ABRE_PARENTESE = r\\'\\\\(\\'\\nt_FECHA_PARENTESE = r\\'\\\\)\\'\\nt_ABRE_COLCHETE = r\\'\\\\[\\'\\nt_FECHA_COLCHETE = r\\'\\\\]\\'\\nt_VIRGULA = r\\',\\'\\nt_ATRIBUICAO = r\\':=\\'\\nt_DOIS_PONTOS = r\\':\\'\\n\\n# Operadores L\\xc3\\xb3gicos.\\nt_E_LOGICO = r\\'&&\\'\\nt_OU_LOGICO = r\\'\\\\|\\\\|\\'\\nt_NEGACAO = r\\'!\\'\\n\\n# Operadores Relacionais.\\nt_DIFERENCA = r\\'<>\\'\\nt_MENOR_IGUAL = r\\'<=\\'\\nt_MAIOR_IGUAL = r\\'>=\\'\\nt_MENOR = r\\'<\\'\\nt_MAIOR = r\\'>\\'\\nt_IGUAL = r\\'=\\'\\n\\n\\n@TOKEN(id)\\ndef t_ID(token):\\n    token.type = reserved_words.get(\\n        token.value, \"ID\"\\n    )  # n\\xc3\\xa3o \\xc3\\xa9 necess\\xc3\\xa1rio fazer regras/regex para cada palavra reservada\\n    # se o token n\\xc3\\xa3o for uma palavra reservada automaticamente \\xc3\\xa9 um id\\n    # As palavras reservadas t\\xc3\\xaam preced\\xc3\\xaancias sobre os ids\\n\\n    return token\\n\\n\\n@TOKEN(notacao_cientifica)\\ndef t_NUM_NOTACAO_CIENTIFICA(token):\\n    return token\\n\\n\\n@TOKEN(flutuante)\\ndef t_NUM_PONTO_FLUTUANTE(token):\\n    return token\\n\\n\\n@TOKEN(inteiro)\\ndef t_NUM_INTEIRO(token):\\n    return token\\n\\n\\nt_ignore = \" \\\\t\"\\n\\n\\n# t_COMENTARIO = r\\'(\\\\{((.|\\\\n)*?)\\\\})\\'\\n# para poder contar as quebras de linha dentro dos comentarios\\ndef t_COMENTARIO(token):\\n    r\"(\\\\{((.|\\\\n)*?)\\\\})\"\\n    token.lexer.lineno += token.value.count(\"\\\\n\")\\n    # return token\\n\\n\\ndef t_newline(token):\\n    r\"\\\\n+\"\\n    token.lexer.lineno += len(token.value)\\n\\n\\ndef define_column(input, lexpos):\\n    begin_line = input.rfind(\"\\\\n\", 0, lexpos) + 1\\n    return (lexpos - begin_line) + 1\\n\\n\\ndef t_error(token):\\n\\n    # file = token.lexer.filename\\n    line = token.lineno\\n    # column = define_column(token.lexer.backup_data, token.lexpos)\\n    message = \"Caracter inv\\xc3\\xa1lido \\'%s\\'\" % token.value[0]\\n\\n    # print(f\"[{file}]:[{line},{column}]: {message}.\")\\n    print(message)\\n\\n    token.lexer.skip(1)\\n\\n    # token.lexer.has_error = True\\n\\n\\ndef main():\\n    aux = argv[1].split(\\'.\\')\\n    if aux[-1] != \\'tpp\\':\\n      raise IOError(\"Not a .tpp file!\")\\n    data = open(argv[1])\\n\\n    source_file = data.read()\\n    lexer.input(source_file)\\n\\n    # Tokenize\\n    while True:\\n      tok = lexer.token()\\n      if not tok:\\n        break      # No more input\\n      #print(tok)\\n      print(tok.type)\\n      #print(tok.value)\\n\\n# Build the lexer.\\nlexer = lex.lex(optimize=True, debug=True, debuglog=log)\\n\\n\\ndef test(pdata):\\n  data = open(pdata)\\n  source_file = data.read()\\n  lexer.input(source_file)\\n\\n  s = \"\"\\n\\n  while True:\\n    tok = lexer.token()\\n    if not tok:\\n      break      # No more input\\n    s += str(tok.type) + \\'\\\\n\\'\\n\\n  return s\\n\\n\\nif __name__ == \"__main__\":\\n    main()\\n\\n\\n'}"
            ]
          },
          "metadata": {
            "tags": []
          },
          "execution_count": 3
        }
      ]
    },
    {
      "cell_type": "markdown",
      "metadata": {
        "id": "kpYxriLntW7N"
      },
      "source": [
        "# Descompacte o arquivo com os testes"
      ]
    },
    {
      "cell_type": "code",
      "metadata": {
        "colab": {
          "base_uri": "https://localhost:8080/"
        },
        "id": "nDtg3eU7I1Xz",
        "outputId": "e244e0b0-533b-42ac-defa-ca3f19079fcd"
      },
      "source": [
        "!unzip lexica-testes.zip"
      ],
      "execution_count": 4,
      "outputs": [
        {
          "output_type": "stream",
          "text": [
            "Archive:  lexica-testes.zip\n",
            "   creating: testes/\n",
            "  inflating: testes/Busca_Linear_1061992.tpp  \n",
            "  inflating: testes/Busca_Linear_1061992.tpp.out  \n",
            "  inflating: testes/bubble_sort-2020-2.tpp  \n",
            "  inflating: testes/bubble_sort-2020-2.tpp.out  \n",
            "  inflating: testes/bubble_sort.tpp  \n",
            "  inflating: testes/bubble_sort.tpp.out  \n",
            "  inflating: testes/bubble_sort_2.tpp  \n",
            "  inflating: testes/bubble_sort_2.tpp.out  \n",
            "  inflating: testes/buscaLinear-2020-2.tpp  \n",
            "  inflating: testes/buscaLinear-2020-2.tpp.out  \n",
            "  inflating: testes/comp.tpp         \n",
            "  inflating: testes/comp.tpp.out     \n",
            "  inflating: testes/fat.tpp          \n",
            "  inflating: testes/fat.tpp.out      \n",
            "  inflating: testes/fatorial-2020-2.tpp  \n",
            "  inflating: testes/fatorial-2020-2.tpp.out  \n",
            "  inflating: testes/fatorial.tpp     \n",
            "  inflating: testes/fatorial.tpp.out  \n",
            "  inflating: testes/fibonacci-2020-2.tpp  \n",
            "  inflating: testes/fibonacci-2020-2.tpp.out  \n",
            "  inflating: testes/fibonacci.tpp    \n",
            "  inflating: testes/fibonacci.tpp.out  \n",
            "  inflating: testes/hanoi-2020-2.tpp  \n",
            "  inflating: testes/hanoi-2020-2.tpp.out  \n",
            "  inflating: testes/insertSort-2020-2.tpp  \n",
            "  inflating: testes/insertSort-2020-2.tpp.out  \n",
            "  inflating: testes/insertionSort-2020-2.tpp  \n",
            "  inflating: testes/insertionSort-2020-2.tpp.out  \n",
            "  inflating: testes/maiorDoVetor.tpp  \n",
            "  inflating: testes/maiorDoVetor.tpp.out  \n",
            "  inflating: testes/multiplicavetor.tpp  \n",
            "  inflating: testes/multiplicavetor.tpp.out  \n",
            "  inflating: testes/operacao_vetor-2020-2.tpp  \n",
            "  inflating: testes/operacao_vetor-2020-2.tpp.out  \n",
            "  inflating: testes/paraBinario-2020-2.tpp  \n",
            "  inflating: testes/paraBinario-2020-2.tpp.out  \n",
            "  inflating: testes/primo.tpp        \n",
            "  inflating: testes/primo.tpp.out    \n",
            "  inflating: testes/produtoEscalar.tpp  \n",
            "  inflating: testes/produtoEscalar.tpp.out  \n",
            "  inflating: testes/prog_test.tpp    \n",
            "  inflating: testes/prog_test.tpp.out  \n",
            "  inflating: testes/run-tests.sh     \n",
            "  inflating: testes/sample.tpp       \n",
            "  inflating: testes/sample.tpp.out   \n",
            "  inflating: testes/selectionSort-2020-2.tpp  \n",
            "  inflating: testes/selectionSort-2020-2.tpp.out  \n",
            "  inflating: testes/selectionsort.tpp  \n",
            "  inflating: testes/selectionsort.tpp.out  \n",
            "  inflating: testes/soma_maior_que_3.tpp  \n",
            "  inflating: testes/soma_maior_que_3.tpp.out  \n",
            "  inflating: testes/somavet.tpp      \n",
            "  inflating: testes/somavet.tpp.out  \n",
            "  inflating: testes/subtraiVetores.tpp  \n",
            "  inflating: testes/subtraiVetores.tpp.out  \n",
            "  inflating: testes/teste-001.tpp    \n",
            "  inflating: testes/teste-001.tpp.out  \n",
            "  inflating: testes/teste-002.tpp    \n",
            "  inflating: testes/teste-002.tpp.out  \n",
            "  inflating: testes/verif_num_negativo.tpp  \n",
            "  inflating: testes/verif_num_negativo.tpp.out  \n",
            "  inflating: testes/verifica_valor_10.tpp  \n",
            "  inflating: testes/verifica_valor_10.tpp.out  \n"
          ],
          "name": "stdout"
        }
      ]
    },
    {
      "cell_type": "markdown",
      "metadata": {
        "id": "WIrehwkKK3rV"
      },
      "source": [
        ""
      ]
    },
    {
      "cell_type": "markdown",
      "metadata": {
        "id": "JqvLZ8Oeg4Tf"
      },
      "source": [
        "# Copiando os arquivos de teste para o raiz de `\\content`"
      ]
    },
    {
      "cell_type": "code",
      "metadata": {
        "colab": {
          "base_uri": "https://localhost:8080/"
        },
        "id": "C-Ppop6GKxAb",
        "outputId": "83cfbcf4-285e-4ff7-c32e-5bb7d773f3fb"
      },
      "source": [
        "!pwd\n",
        "!cp /content/testes/* .\n",
        "!ls"
      ],
      "execution_count": 21,
      "outputs": [
        {
          "output_type": "stream",
          "text": [
            "/content\n",
            "bubble_sort-2020-2.tpp\t      operacao_vetor-2020-2.tpp\n",
            "bubble_sort-2020-2.tpp.out    operacao_vetor-2020-2.tpp.out\n",
            "bubble_sort_2.tpp\t      paraBinario-2020-2.tpp\n",
            "bubble_sort_2.tpp.out\t      paraBinario-2020-2.tpp.out\n",
            "bubble_sort.tpp\t\t      primo.tpp\n",
            "bubble_sort.tpp.out\t      primo.tpp.out\n",
            "Busca_Linear_1061992.tpp      produtoEscalar.tpp\n",
            "Busca_Linear_1061992.tpp.out  produtoEscalar.tpp.out\n",
            "buscaLinear-2020-2.tpp\t      prog_test.tpp\n",
            "buscaLinear-2020-2.tpp.out    prog_test.tpp.out\n",
            "comp.tpp\t\t      run-tests.sh\n",
            "comp.tpp.out\t\t      sample_data\n",
            "fatorial-2020-2.tpp\t      sample.tpp\n",
            "fatorial-2020-2.tpp.out       sample.tpp.out\n",
            "fatorial.tpp\t\t      selectionSort-2020-2.tpp\n",
            "fatorial.tpp.out\t      selectionSort-2020-2.tpp.out\n",
            "fat.tpp\t\t\t      selectionsort.tpp\n",
            "fat.tpp.out\t\t      selectionsort.tpp.out\n",
            "fibonacci-2020-2.tpp\t      soma_maior_que_3.tpp\n",
            "fibonacci-2020-2.tpp.out      soma_maior_que_3.tpp.out\n",
            "fibonacci.tpp\t\t      somavet.tpp\n",
            "fibonacci.tpp.out\t      somavet.tpp.out\n",
            "gdrive\t\t\t      subtraiVetores.tpp\n",
            "hanoi-2020-2.tpp\t      subtraiVetores.tpp.out\n",
            "hanoi-2020-2.tpp.out\t      teste-001.tpp\n",
            "insertionSort-2020-2.tpp      teste-001.tpp.out\n",
            "insertionSort-2020-2.tpp.out  teste-002.tpp\n",
            "insertSort-2020-2.tpp\t      teste-002.tpp.out\n",
            "insertSort-2020-2.tpp.out     testes\n",
            "lexica-testes.zip\t      tpplex.py\n",
            "maiorDoVetor.tpp\t      verifica_valor_10.tpp\n",
            "maiorDoVetor.tpp.out\t      verifica_valor_10.tpp.out\n",
            "multiplicavetor.tpp\t      verif_num_negativo.tpp\n",
            "multiplicavetor.tpp.out       verif_num_negativo.tpp.out\n"
          ],
          "name": "stdout"
        }
      ]
    },
    {
      "cell_type": "markdown",
      "metadata": {
        "id": "7wOSOZKsfn0e"
      },
      "source": [
        "# Executando os testes\n",
        "\n",
        "* É preciso alterar o nome `tpplex.py` para o nome do arquivo da sua implementação do analisador léxico."
      ]
    },
    {
      "cell_type": "code",
      "metadata": {
        "colab": {
          "base_uri": "https://localhost:8080/"
        },
        "id": "LE-LCOmgK34A",
        "outputId": "16923fdf-3906-4191-e75e-3f75d91bd7fd"
      },
      "source": [
        "!sh run-tests.sh tpplex.py"
      ],
      "execution_count": 23,
      "outputs": [
        {
          "output_type": "stream",
          "text": [
            "Testing with bubble_sort-2020-2.tpp\n",
            "Testing with bubble_sort_2.tpp\n",
            "Testing with bubble_sort.tpp\n",
            "Testing with Busca_Linear_1061992.tpp\n",
            "Testing with buscaLinear-2020-2.tpp\n",
            "Testing with comp.tpp\n",
            "Testing with fatorial-2020-2.tpp\n",
            "Testing with fatorial.tpp\n",
            "Testing with fat.tpp\n",
            "Testing with fibonacci-2020-2.tpp\n",
            "Testing with fibonacci.tpp\n",
            "Testing with hanoi-2020-2.tpp\n",
            "Testing with insertionSort-2020-2.tpp\n",
            "Testing with insertSort-2020-2.tpp\n",
            "Testing with maiorDoVetor.tpp\n",
            "Testing with multiplicavetor.tpp\n",
            "Testing with operacao_vetor-2020-2.tpp\n",
            "Testing with paraBinario-2020-2.tpp\n",
            "Testing with primo.tpp\n",
            "Testing with produtoEscalar.tpp\n",
            "Testing with prog_test.tpp\n",
            "Testing with sample.tpp\n",
            "Testing with selectionSort-2020-2.tpp\n",
            "Testing with selectionsort.tpp\n",
            "Testing with soma_maior_que_3.tpp\n",
            "Testing with somavet.tpp\n",
            "Testing with subtraiVetores.tpp\n",
            "Testing with teste-001.tpp\n",
            "Testing with teste-002.tpp\n",
            "Testing with verifica_valor_10.tpp\n",
            "Testing with verif_num_negativo.tpp\n",
            "-------------------------------------------------\n",
            "Relatório dos Testes: \n",
            "-------------------------------------------------\n",
            "00. Teste bubble_sort-2020-2.tpp.diff        [OK]\n",
            "00. Teste bubble_sort_2.tpp.diff             [OK]\n",
            "00. Teste bubble_sort.tpp.diff               [OK]\n",
            "00. Teste Busca_Linear_1061992.tpp.diff      [OK]\n",
            "00. Teste buscaLinear-2020-2.tpp.diff        [OK]\n",
            "00. Teste comp.tpp.diff                      [OK]\n",
            "00. Teste fatorial-2020-2.tpp.diff           [OK]\n",
            "00. Teste fatorial.tpp.diff                  [OK]\n",
            "00. Teste fat.tpp.diff                       [OK]\n",
            "00. Teste fibonacci-2020-2.tpp.diff          [OK]\n",
            "00. Teste fibonacci.tpp.diff                 [OK]\n",
            "00. Teste hanoi-2020-2.tpp.diff              [OK]\n",
            "00. Teste insertionSort-2020-2.tpp.diff      [OK]\n",
            "00. Teste insertSort-2020-2.tpp.diff         [OK]\n",
            "00. Teste maiorDoVetor.tpp.diff              [OK]\n",
            "00. Teste multiplicavetor.tpp.diff           [OK]\n",
            "00. Teste operacao_vetor-2020-2.tpp.diff     [OK]\n",
            "00. Teste paraBinario-2020-2.tpp.diff        [OK]\n",
            "00. Teste primo.tpp.diff                     [OK]\n",
            "00. Teste produtoEscalar.tpp.diff            [OK]\n",
            "00. Teste prog_test.tpp.diff                 [OK]\n",
            "00. Teste sample.tpp.diff                    [OK]\n",
            "00. Teste selectionSort-2020-2.tpp.diff      [OK]\n",
            "00. Teste selectionsort.tpp.diff             [OK]\n",
            "00. Teste soma_maior_que_3.tpp.diff          [OK]\n",
            "00. Teste somavet.tpp.diff                   [OK]\n",
            "00. Teste subtraiVetores.tpp.diff            [OK]\n",
            "00. Teste teste-001.tpp.diff                 [OK]\n",
            "00. Teste teste-002.tpp.diff                 [OK]\n",
            "00. Teste verifica_valor_10.tpp.diff         [OK]\n",
            "00. Teste verif_num_negativo.tpp.diff        [OK]\n",
            "-------------------------------------------------\n",
            "OK\n",
            "-------------------------------------------------\n"
          ],
          "name": "stdout"
        }
      ]
    },
    {
      "cell_type": "markdown",
      "metadata": {
        "id": "dOjbS2bRgx0O"
      },
      "source": [
        "# Executando os testes e salvando o relatório em arquivo\n",
        "\n",
        "* Edite o nome do arquivo, coloque seu Nome e RA."
      ]
    },
    {
      "cell_type": "code",
      "metadata": {
        "colab": {
          "base_uri": "https://localhost:8080/"
        },
        "id": "1Ec3aYs1e8Gs",
        "outputId": "e4636619-1067-4461-a558-696c74cfa9a9"
      },
      "source": [
        "!sh run-tests.sh tpplex.py > relatorio-execucao-testes-Nome-RA.txt\n",
        "!cat relatorio-execucao-testes-Nome-RA.txt"
      ],
      "execution_count": 30,
      "outputs": [
        {
          "output_type": "stream",
          "text": [
            "Testing with bubble_sort-2020-2.tpp\n",
            "Testing with bubble_sort_2.tpp\n",
            "Testing with bubble_sort.tpp\n",
            "Testing with Busca_Linear_1061992.tpp\n",
            "Testing with buscaLinear-2020-2.tpp\n",
            "Testing with comp.tpp\n",
            "Testing with fatorial-2020-2.tpp\n",
            "Testing with fatorial.tpp\n",
            "Testing with fat.tpp\n",
            "Testing with fibonacci-2020-2.tpp\n",
            "Testing with fibonacci.tpp\n",
            "Testing with hanoi-2020-2.tpp\n",
            "Testing with insertionSort-2020-2.tpp\n",
            "Testing with insertSort-2020-2.tpp\n",
            "Testing with maiorDoVetor.tpp\n",
            "Testing with multiplicavetor.tpp\n",
            "Testing with operacao_vetor-2020-2.tpp\n",
            "Testing with paraBinario-2020-2.tpp\n",
            "Testing with primo.tpp\n",
            "Testing with produtoEscalar.tpp\n",
            "Testing with prog_test.tpp\n",
            "Testing with sample.tpp\n",
            "Testing with selectionSort-2020-2.tpp\n",
            "Testing with selectionsort.tpp\n",
            "Testing with soma_maior_que_3.tpp\n",
            "Testing with somavet.tpp\n",
            "Testing with subtraiVetores.tpp\n",
            "Testing with teste-001.tpp\n",
            "Testing with teste-002.tpp\n",
            "Testing with verifica_valor_10.tpp\n",
            "Testing with verif_num_negativo.tpp\n",
            "-------------------------------------------------\n",
            "Relatório dos Testes: \n",
            "-------------------------------------------------\n",
            "00. Teste bubble_sort-2020-2.tpp.diff        [OK]\n",
            "00. Teste bubble_sort_2.tpp.diff             [OK]\n",
            "00. Teste bubble_sort.tpp.diff               [OK]\n",
            "00. Teste Busca_Linear_1061992.tpp.diff      [OK]\n",
            "00. Teste buscaLinear-2020-2.tpp.diff        [OK]\n",
            "00. Teste comp.tpp.diff                      [OK]\n",
            "00. Teste fatorial-2020-2.tpp.diff           [OK]\n",
            "00. Teste fatorial.tpp.diff                  [OK]\n",
            "00. Teste fat.tpp.diff                       [OK]\n",
            "00. Teste fibonacci-2020-2.tpp.diff          [OK]\n",
            "00. Teste fibonacci.tpp.diff                 [OK]\n",
            "00. Teste hanoi-2020-2.tpp.diff              [OK]\n",
            "00. Teste insertionSort-2020-2.tpp.diff      [OK]\n",
            "00. Teste insertSort-2020-2.tpp.diff         [OK]\n",
            "00. Teste maiorDoVetor.tpp.diff              [OK]\n",
            "00. Teste multiplicavetor.tpp.diff           [OK]\n",
            "00. Teste operacao_vetor-2020-2.tpp.diff     [OK]\n",
            "00. Teste paraBinario-2020-2.tpp.diff        [OK]\n",
            "00. Teste primo.tpp.diff                     [OK]\n",
            "00. Teste produtoEscalar.tpp.diff            [OK]\n",
            "00. Teste prog_test.tpp.diff                 [OK]\n",
            "00. Teste sample.tpp.diff                    [OK]\n",
            "00. Teste selectionSort-2020-2.tpp.diff      [OK]\n",
            "00. Teste selectionsort.tpp.diff             [OK]\n",
            "00. Teste soma_maior_que_3.tpp.diff          [OK]\n",
            "00. Teste somavet.tpp.diff                   [OK]\n",
            "00. Teste subtraiVetores.tpp.diff            [OK]\n",
            "00. Teste teste-001.tpp.diff                 [OK]\n",
            "00. Teste teste-002.tpp.diff                 [OK]\n",
            "00. Teste verifica_valor_10.tpp.diff         [OK]\n",
            "00. Teste verif_num_negativo.tpp.diff        [OK]\n",
            "-------------------------------------------------\n",
            "OK\n",
            "-------------------------------------------------\n"
          ],
          "name": "stdout"
        }
      ]
    },
    {
      "cell_type": "markdown",
      "metadata": {
        "id": "YhBCEf-HgnFp"
      },
      "source": [
        "# Fazendo Download do Arquivo de Relatório de Execução\n",
        "\n",
        "* Edite o nome do arquivo, coloque seu Nome e RA."
      ]
    },
    {
      "cell_type": "code",
      "metadata": {
        "colab": {
          "base_uri": "https://localhost:8080/",
          "height": 17
        },
        "id": "MfXPniTfgdHu",
        "outputId": "b8fd4eee-1ec6-42d7-8f29-670330f0db43"
      },
      "source": [
        "from google.colab import files\n",
        "files.download('/content/relatorio-execucao-testes-Nome-RA.txt')"
      ],
      "execution_count": 26,
      "outputs": [
        {
          "output_type": "display_data",
          "data": {
            "application/javascript": [
              "\n",
              "    async function download(id, filename, size) {\n",
              "      if (!google.colab.kernel.accessAllowed) {\n",
              "        return;\n",
              "      }\n",
              "      const div = document.createElement('div');\n",
              "      const label = document.createElement('label');\n",
              "      label.textContent = `Downloading \"${filename}\": `;\n",
              "      div.appendChild(label);\n",
              "      const progress = document.createElement('progress');\n",
              "      progress.max = size;\n",
              "      div.appendChild(progress);\n",
              "      document.body.appendChild(div);\n",
              "\n",
              "      const buffers = [];\n",
              "      let downloaded = 0;\n",
              "\n",
              "      const channel = await google.colab.kernel.comms.open(id);\n",
              "      // Send a message to notify the kernel that we're ready.\n",
              "      channel.send({})\n",
              "\n",
              "      for await (const message of channel.messages) {\n",
              "        // Send a message to notify the kernel that we're ready.\n",
              "        channel.send({})\n",
              "        if (message.buffers) {\n",
              "          for (const buffer of message.buffers) {\n",
              "            buffers.push(buffer);\n",
              "            downloaded += buffer.byteLength;\n",
              "            progress.value = downloaded;\n",
              "          }\n",
              "        }\n",
              "      }\n",
              "      const blob = new Blob(buffers, {type: 'application/binary'});\n",
              "      const a = document.createElement('a');\n",
              "      a.href = window.URL.createObjectURL(blob);\n",
              "      a.download = filename;\n",
              "      div.appendChild(a);\n",
              "      a.click();\n",
              "      div.remove();\n",
              "    }\n",
              "  "
            ],
            "text/plain": [
              "<IPython.core.display.Javascript object>"
            ]
          },
          "metadata": {
            "tags": []
          }
        },
        {
          "output_type": "display_data",
          "data": {
            "application/javascript": [
              "download(\"download_61260c92-ce2c-443b-88a1-b83d080e184f\", \"relatorio-execucao-testes-Nome-RA.txt\", 2742)"
            ],
            "text/plain": [
              "<IPython.core.display.Javascript object>"
            ]
          },
          "metadata": {
            "tags": []
          }
        }
      ]
    }
  ]
}